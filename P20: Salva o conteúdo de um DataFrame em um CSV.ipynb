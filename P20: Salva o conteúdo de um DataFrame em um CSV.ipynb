{
 "cells": [
  {
   "cell_type": "code",
   "execution_count": 1,
   "id": "adad3345",
   "metadata": {},
   "outputs": [],
   "source": [
    "#P20: Salva o conteúdo de um DataFrame em um CSV\n",
    "import pandas as pd"
   ]
  },
  {
   "cell_type": "code",
   "execution_count": 2,
   "id": "3c1b20e9",
   "metadata": {},
   "outputs": [],
   "source": [
    "#cria o DataFrame\n",
    "dados = {'codigo': [1001, 1002, 1003, 1004, 1005],\n",
    "        'nome': ['leite', 'café', 'biscoito', 'chá', 'torradas']}"
   ]
  },
  {
   "cell_type": "code",
   "execution_count": 3,
   "id": "05439469",
   "metadata": {},
   "outputs": [],
   "source": [
    "produtos = pd.DataFrame(dados)"
   ]
  },
  {
   "cell_type": "code",
   "execution_count": 4,
   "id": "4eb83ed6",
   "metadata": {},
   "outputs": [],
   "source": [
    "produtos.to_csv(\"/Users/TullioPires/produtos.csv\", sep=\"\\t\", index=False)"
   ]
  },
  {
   "cell_type": "code",
   "execution_count": null,
   "id": "78dfb21c",
   "metadata": {},
   "outputs": [],
   "source": []
  }
 ],
 "metadata": {
  "kernelspec": {
   "display_name": "Python 3",
   "language": "python",
   "name": "python3"
  },
  "language_info": {
   "codemirror_mode": {
    "name": "ipython",
    "version": 3
   },
   "file_extension": ".py",
   "mimetype": "text/x-python",
   "name": "python",
   "nbconvert_exporter": "python",
   "pygments_lexer": "ipython3",
   "version": "3.8.8"
  }
 },
 "nbformat": 4,
 "nbformat_minor": 5
}
