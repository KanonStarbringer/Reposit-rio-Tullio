{
 "cells": [
  {
   "cell_type": "code",
   "execution_count": 15,
   "id": "1e97a60b",
   "metadata": {},
   "outputs": [],
   "source": [
    "#P57: Normalização de atributo categórico\n",
    "import pandas as pd"
   ]
  },
  {
   "cell_type": "code",
   "execution_count": 16,
   "id": "0f86242f",
   "metadata": {},
   "outputs": [],
   "source": [
    "#1 Importando a base de dados\n",
    "flags = pd.read_csv('/Users/TullioPires/flags.csv')"
   ]
  },
  {
   "cell_type": "code",
   "execution_count": 17,
   "id": "a53aaf22",
   "metadata": {},
   "outputs": [
    {
     "name": "stdout",
     "output_type": "stream",
     "text": [
      "               name  language  lg_1  lg_2  lg_3  lg_4  lg_5  lg_6  lg_7  lg_8  \\\n",
      "0       Afghanistan        10     0     0     0     0     0     0     0     0   \n",
      "1           Albania         6     0     0     0     0     0     1     0     0   \n",
      "2           Algeria         8     0     0     0     0     0     0     0     1   \n",
      "3    American-Samoa         1     1     0     0     0     0     0     0     0   \n",
      "4           Andorra         6     0     0     0     0     0     1     0     0   \n",
      "..              ...       ...   ...   ...   ...   ...   ...   ...   ...   ...   \n",
      "189   Western-Samoa         1     1     0     0     0     0     0     0     0   \n",
      "190      Yugoslavia         6     0     0     0     0     0     1     0     0   \n",
      "191           Zaire        10     0     0     0     0     0     0     0     0   \n",
      "192          Zambia        10     0     0     0     0     0     0     0     0   \n",
      "193        Zimbabwe        10     0     0     0     0     0     0     0     0   \n",
      "\n",
      "     lg_9  lg_10  \n",
      "0       0      1  \n",
      "1       0      0  \n",
      "2       0      0  \n",
      "3       0      0  \n",
      "4       0      0  \n",
      "..    ...    ...  \n",
      "189     0      0  \n",
      "190     0      0  \n",
      "191     0      1  \n",
      "192     0      1  \n",
      "193     0      1  \n",
      "\n",
      "[194 rows x 12 columns]\n"
     ]
    }
   ],
   "source": [
    "#2 Realiza a transformação com get_dummies() e join()\n",
    "dummies = pd.get_dummies(flags['language'], prefix = 'lg')\n",
    "flags = flags.join(dummies)\n",
    "\n",
    "print(flags[['name', 'language',\n",
    "           'lg_1',\n",
    "           'lg_2',\n",
    "           'lg_3',\n",
    "           'lg_4',\n",
    "           'lg_5',\n",
    "           'lg_6',\n",
    "           'lg_7',\n",
    "           'lg_8',\n",
    "           'lg_9',\n",
    "           'lg_10']])"
   ]
  },
  {
   "cell_type": "code",
   "execution_count": null,
   "id": "d892ee40",
   "metadata": {},
   "outputs": [],
   "source": []
  }
 ],
 "metadata": {
  "kernelspec": {
   "display_name": "Python 3",
   "language": "python",
   "name": "python3"
  },
  "language_info": {
   "codemirror_mode": {
    "name": "ipython",
    "version": 3
   },
   "file_extension": ".py",
   "mimetype": "text/x-python",
   "name": "python",
   "nbconvert_exporter": "python",
   "pygments_lexer": "ipython3",
   "version": "3.8.8"
  }
 },
 "nbformat": 4,
 "nbformat_minor": 5
}
