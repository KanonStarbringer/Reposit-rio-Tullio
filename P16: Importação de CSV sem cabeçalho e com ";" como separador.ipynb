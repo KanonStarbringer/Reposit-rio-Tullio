{
 "cells": [
  {
   "cell_type": "code",
   "execution_count": 1,
   "id": "95aa6d3a",
   "metadata": {},
   "outputs": [],
   "source": [
    "#P16: Importação de CSV sem cabeçalho e com \";\" como separador\n",
    "import pandas as pd"
   ]
  },
  {
   "cell_type": "code",
   "execution_count": 2,
   "id": "1493ff8e",
   "metadata": {},
   "outputs": [],
   "source": [
    "notas=pd.read_csv(\"/Users/TullioPires/notas.csv\", sep=\";\", names=['matricula', 'nota1', 'nota2'])"
   ]
  },
  {
   "cell_type": "code",
   "execution_count": 3,
   "id": "0e8e7ed3",
   "metadata": {},
   "outputs": [
    {
     "name": "stdout",
     "output_type": "stream",
     "text": [
      "  matricula  nota1  nota2\n",
      "0  M0012017    9.8    9.5\n",
      "1  M0022017    5.3    4.1\n",
      "2  M0032017    2.5    8.0\n",
      "3  M0042017    7.5    7.5\n"
     ]
    }
   ],
   "source": [
    "print(notas)"
   ]
  },
  {
   "cell_type": "code",
   "execution_count": null,
   "id": "e229187c",
   "metadata": {},
   "outputs": [],
   "source": []
  }
 ],
 "metadata": {
  "kernelspec": {
   "display_name": "Python 3",
   "language": "python",
   "name": "python3"
  },
  "language_info": {
   "codemirror_mode": {
    "name": "ipython",
    "version": 3
   },
   "file_extension": ".py",
   "mimetype": "text/x-python",
   "name": "python",
   "nbconvert_exporter": "python",
   "pygments_lexer": "ipython3",
   "version": "3.8.8"
  }
 },
 "nbformat": 4,
 "nbformat_minor": 5
}
