{
 "cells": [
  {
   "cell_type": "code",
   "execution_count": 2,
   "id": "17d54863",
   "metadata": {},
   "outputs": [],
   "source": [
    "#P44: Junção interna\n",
    "import pandas as pd"
   ]
  },
  {
   "cell_type": "code",
   "execution_count": 6,
   "id": "7644351c",
   "metadata": {},
   "outputs": [],
   "source": [
    "#1 Cria os DataFrames depto e emp\n",
    "dic_depto = {'id': ['D1', 'D2', 'D3', 'D4'],\n",
    "            'nomDepto': ['Compras', 'RH', 'TI', 'Vendas'],\n",
    "            'local': ['SP', 'RJ', 'RJ', 'SP']}\n",
    "\n",
    "dic_emp = {'num': [3199, 3269, 3555, 3788, 3844],\n",
    "          'nome': ['Ana', 'David', 'José', 'Marina', 'Luís'],\n",
    "          'salario': [1600, 2975, 1500, 5000, 3000],\n",
    "          'idDepto': ['D2', 'D3', None, 'D2', 'D4']}"
   ]
  },
  {
   "cell_type": "code",
   "execution_count": 7,
   "id": "129840bd",
   "metadata": {},
   "outputs": [],
   "source": [
    "depto = pd.DataFrame(dic_depto)\n",
    "emp = pd.DataFrame(dic_emp)"
   ]
  },
  {
   "cell_type": "code",
   "execution_count": 9,
   "id": "60e9e090",
   "metadata": {},
   "outputs": [
    {
     "name": "stdout",
     "output_type": "stream",
     "text": [
      "----------------------------\n",
      "Depto:\n",
      "   id nomDepto local\n",
      "0  D1  Compras    SP\n",
      "1  D2       RH    RJ\n",
      "2  D3       TI    RJ\n",
      "3  D4   Vendas    SP\n",
      "----------------------------\n",
      "Emp:\n",
      "    num    nome  salario idDepto\n",
      "0  3199     Ana     1600      D2\n",
      "1  3269   David     2975      D3\n",
      "2  3555    José     1500    None\n",
      "3  3788  Marina     5000      D2\n",
      "4  3844    Luís     3000      D4\n",
      "----------------------------\n",
      "Juncao interna:\n",
      "    num    nome  salario idDepto  id nomDepto local\n",
      "0  3199     Ana     1600      D2  D2       RH    RJ\n",
      "1  3788  Marina     5000      D2  D2       RH    RJ\n",
      "2  3269   David     2975      D3  D3       TI    RJ\n",
      "3  3844    Luís     3000      D4  D4   Vendas    SP\n"
     ]
    }
   ],
   "source": [
    "#2 Efetua a operação de junção\n",
    "juncao_interna = pd.merge(emp, depto, left_on=\"idDepto\", right_on=\"id\")\n",
    "\n",
    "print('----------------------------')\n",
    "print('Depto:')\n",
    "print(depto)\n",
    "print('----------------------------')\n",
    "print('Emp:')\n",
    "print(emp)\n",
    "print('----------------------------')\n",
    "print('Juncao interna:')\n",
    "print(juncao_interna)"
   ]
  },
  {
   "cell_type": "code",
   "execution_count": 10,
   "id": "fbde8521",
   "metadata": {},
   "outputs": [
    {
     "name": "stdout",
     "output_type": "stream",
     "text": [
      "    num    nome nomDepto\n",
      "0  3199     Ana       RH\n",
      "1  3788  Marina       RH\n",
      "2  3269   David       TI\n",
      "3  3844    Luís   Vendas\n"
     ]
    }
   ],
   "source": [
    "#selecionado só as colunas que me interessam\n",
    "fatia = juncao_interna[['num', 'nome', 'nomDepto']]\n",
    "print(fatia)"
   ]
  },
  {
   "cell_type": "code",
   "execution_count": null,
   "id": "e24272b8",
   "metadata": {},
   "outputs": [],
   "source": []
  }
 ],
 "metadata": {
  "kernelspec": {
   "display_name": "Python 3",
   "language": "python",
   "name": "python3"
  },
  "language_info": {
   "codemirror_mode": {
    "name": "ipython",
    "version": 3
   },
   "file_extension": ".py",
   "mimetype": "text/x-python",
   "name": "python",
   "nbconvert_exporter": "python",
   "pygments_lexer": "ipython3",
   "version": "3.8.8"
  }
 },
 "nbformat": 4,
 "nbformat_minor": 5
}
