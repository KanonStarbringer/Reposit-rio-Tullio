{
 "cells": [
  {
   "cell_type": "code",
   "execution_count": 1,
   "id": "a8830f92-d60d-4ab4-911d-501a49faf3dc",
   "metadata": {},
   "outputs": [],
   "source": [
    "\"\"\"\n",
    "Resolution of the decision making problem of University of Porto:\n",
    "\n",
    "We have a decision problem that comprises of 3 courses of action and 2 states of nature, as follows:\n",
    "\n",
    "A) Courses of action:\n",
    "a1: do not sell the brand and not go international;\n",
    "a2: do not sell the brand and go international; and\n",
    "a3: sell the brand to a larger competitor.\n",
    "\n",
    "The states of nature are, as follows (considering our toys to be ecologically viable ones):\n",
    "\n",
    "B) States of nature:\n",
    "E1: Increase in ecological awareness;\n",
    "E2: Decrease in ecological awareness\n",
    "\"\"\"\n",
    "\n",
    "#Lets go solving, by first importing the necessary lib\n",
    "from scikitmcda.dmuu import DMUU"
   ]
  },
  {
   "cell_type": "code",
   "execution_count": 4,
   "id": "563b287d-c6f3-4066-a383-13144980b1b1",
   "metadata": {},
   "outputs": [
    {
     "name": "stdout",
     "output_type": "stream",
     "text": [
      "+----+----------------+------+------+\n",
      "|    | alternatives   |   E1 |   E2 |\n",
      "|----+----------------+------+------|\n",
      "|  0 | a1             | 1500 |    0 |\n",
      "|  1 | a2             | 2000 | -400 |\n",
      "|  2 | a3             |  500 |  500 |\n",
      "+----+----------------+------+------+\n"
     ]
    }
   ],
   "source": [
    "#creating the decision matrix\n",
    "dmuu = DMUU()\n",
    "dmuu.dataframe([[1500, 0],\n",
    "               [2000, -400],\n",
    "               [500, 500]],\n",
    "               [\"a1\", \"a2\", \"a3\"],\n",
    "               [\"E1\", \"E2\"])\n",
    "print(dmuu.pretty_original())"
   ]
  },
  {
   "cell_type": "code",
   "execution_count": 5,
   "id": "25080098-2c8b-45a2-b788-a0d6bb878f0e",
   "metadata": {},
   "outputs": [
    {
     "name": "stdout",
     "output_type": "stream",
     "text": [
      "+----+----------------+------+------+-----------+-----------+------------+------------------+------------------+\n",
      "|    | alternatives   |   E1 |   E2 | maximax   | maximin   | laplace    | minimax-regret   | hurwicz          |\n",
      "|----+----------------+------+------+-----------+-----------+------------+------------------+------------------|\n",
      "|  0 | a1             | 1500 |    0 | (1500, 0) | (0, 0)    | (750.0, 0) | (500, 1)         | (1050.0, 0, 0.7) |\n",
      "|  1 | a2             | 2000 | -400 | (2000, 1) | (-400, 0) | (800.0, 1) | (900, 0)         | (1280.0, 1, 0.7) |\n",
      "|  2 | a3             |  500 |  500 | (500, 0)  | (500, 1)  | (500.0, 0) | (1500, 0)        | (500.0, 0, 0.7)  |\n",
      "+----+----------------+------+------+-----------+-----------+------------+------------------+------------------+\n"
     ]
    }
   ],
   "source": [
    "#establising the different comparison criteria\n",
    "dmuu.decision_making([dmuu.maximax(), dmuu.maximin(), dmuu.laplace(), dmuu.minimax_regret(), dmuu.hurwicz(0.7)])\n",
    "print(dmuu.pretty_calc())"
   ]
  },
  {
   "cell_type": "code",
   "execution_count": 6,
   "id": "1421caeb-0d6f-4cf6-a8c4-02b84421f994",
   "metadata": {},
   "outputs": [
    {
     "name": "stdout",
     "output_type": "stream",
     "text": [
      "+---------------+---------+---------+----------------+-------------------------------------------+-----------+----------------------+\n",
      "| alternative   |   index |   value | criteria       | result                                    | type_dm   | hurwicz_coeficient   |\n",
      "|---------------+---------+---------+----------------+-------------------------------------------+-----------+----------------------|\n",
      "| a2            |       1 |    2000 | maximax        | {'a1': 1500, 'a2': 2000, 'a3': 500}       | DMUU      |                      |\n",
      "| a3            |       2 |     500 | maximin        | {'a1': 0, 'a2': -400, 'a3': 500}          | DMUU      |                      |\n",
      "| a2            |       1 |     800 | laplace        | {'a1': 750.0, 'a2': 800.0, 'a3': 500.0}   | DMUU      |                      |\n",
      "| a1            |       0 |     500 | minimax-regret | {'a1': 500, 'a2': 900, 'a3': 1500}        | DMUU      |                      |\n",
      "| a2            |       1 |    1280 | hurwicz        | {'a1': 1050.0, 'a2': 1280.0, 'a3': 500.0} | DMUU      | 0.7                  |\n",
      "+---------------+---------+---------+----------------+-------------------------------------------+-----------+----------------------+\n"
     ]
    }
   ],
   "source": [
    "#Table of resume with the criteria result\n",
    "print(dmuu.pretty_decision())"
   ]
  },
  {
   "cell_type": "code",
   "execution_count": 7,
   "id": "809e7468-512b-4846-8cd9-d5492b0d2917",
   "metadata": {},
   "outputs": [
    {
     "name": "stdout",
     "output_type": "stream",
     "text": [
      "+----+----------------+------+------+\n",
      "|    | alternatives   |   E1 |   E2 |\n",
      "|----+----------------+------+------|\n",
      "|  0 | a1             | 1500 |    0 |\n",
      "|  1 | a2             | 2000 | -400 |\n",
      "|  2 | a3             |  500 |  500 |\n",
      "+----+----------------+------+------+\n"
     ]
    }
   ],
   "source": [
    "#cleaning the results output\n",
    "dmuu.calc_clean()\n",
    "print(dmuu.pretty_calc())"
   ]
  },
  {
   "cell_type": "code",
   "execution_count": null,
   "id": "d8e970dd-9556-4f80-86ac-0876a992b004",
   "metadata": {},
   "outputs": [],
   "source": []
  }
 ],
 "metadata": {
  "kernelspec": {
   "display_name": "Python 3",
   "language": "python",
   "name": "python3"
  },
  "language_info": {
   "codemirror_mode": {
    "name": "ipython",
    "version": 3
   },
   "file_extension": ".py",
   "mimetype": "text/x-python",
   "name": "python",
   "nbconvert_exporter": "python",
   "pygments_lexer": "ipython3",
   "version": "3.8.8"
  }
 },
 "nbformat": 4,
 "nbformat_minor": 5
}
