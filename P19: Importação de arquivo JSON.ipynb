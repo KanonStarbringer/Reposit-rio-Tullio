{
 "cells": [
  {
   "cell_type": "code",
   "execution_count": 2,
   "id": "f5e05b12",
   "metadata": {},
   "outputs": [],
   "source": [
    "#P19: Importação de arquivo JSON\n",
    "import pandas as pd\n",
    "import json"
   ]
  },
  {
   "cell_type": "code",
   "execution_count": 3,
   "id": "224c1fa4",
   "metadata": {},
   "outputs": [],
   "source": [
    "#(1) - Importa o arquivo JSON para a memória\n",
    "with open(\"/Users/TullioPires/notas.json\") as f:\n",
    "    j_notas = json.load(f)"
   ]
  },
  {
   "cell_type": "code",
   "execution_count": 4,
   "id": "0fd76950",
   "metadata": {},
   "outputs": [],
   "source": [
    "#(2) - Transfere as informações para um DataFrame\n",
    "notas = pd.DataFrame(j_notas,\n",
    "                    columns=['matricula','notas'])"
   ]
  },
  {
   "cell_type": "code",
   "execution_count": 5,
   "id": "1ed9a3e9",
   "metadata": {},
   "outputs": [
    {
     "name": "stdout",
     "output_type": "stream",
     "text": [
      "  matricula       notas\n",
      "0  M0012017  [9.8, 9.5]\n",
      "1  M0022017  [5.3, 4.1]\n",
      "2  M0032017  [2.5, 8.0]\n",
      "3  M0042017  [7.5, 7.5]\n"
     ]
    }
   ],
   "source": [
    "print(notas)"
   ]
  },
  {
   "cell_type": "code",
   "execution_count": null,
   "id": "b2872710",
   "metadata": {},
   "outputs": [],
   "source": []
  }
 ],
 "metadata": {
  "kernelspec": {
   "display_name": "Python 3",
   "language": "python",
   "name": "python3"
  },
  "language_info": {
   "codemirror_mode": {
    "name": "ipython",
    "version": 3
   },
   "file_extension": ".py",
   "mimetype": "text/x-python",
   "name": "python",
   "nbconvert_exporter": "python",
   "pygments_lexer": "ipython3",
   "version": "3.8.8"
  }
 },
 "nbformat": 4,
 "nbformat_minor": 5
}
