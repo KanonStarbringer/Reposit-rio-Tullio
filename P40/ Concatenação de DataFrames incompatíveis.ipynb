{
 "cells": [
  {
   "cell_type": "code",
   "execution_count": 1,
   "id": "4d96b39b",
   "metadata": {},
   "outputs": [],
   "source": [
    "#P40: Concatenação de DataFrames incompatíveis\n",
    "import pandas as pd"
   ]
  },
  {
   "cell_type": "code",
   "execution_count": 2,
   "id": "22139282",
   "metadata": {},
   "outputs": [],
   "source": [
    "#1 Cria dois DataFrames com definição diferente\n",
    "d1 = pd.DataFrame({\"carro\": [\"Hyundai\", \"Renault\", \"Fiat\"]})\n",
    "d2 = pd.DataFrame({\"animal\": [\"Capivara\", \"Bem-te-vi\"]})"
   ]
  },
  {
   "cell_type": "code",
   "execution_count": 3,
   "id": "5ae391a3",
   "metadata": {},
   "outputs": [],
   "source": [
    "#2 concatena os DataFrames\n",
    "d3 = pd.concat([d1, d2], ignore_index=True, sort=False)"
   ]
  },
  {
   "cell_type": "code",
   "execution_count": 4,
   "id": "86bf5525",
   "metadata": {},
   "outputs": [
    {
     "name": "stdout",
     "output_type": "stream",
     "text": [
      "     carro     animal\n",
      "0  Hyundai        NaN\n",
      "1  Renault        NaN\n",
      "2     Fiat        NaN\n",
      "3      NaN   Capivara\n",
      "4      NaN  Bem-te-vi\n"
     ]
    }
   ],
   "source": [
    "print(d3)"
   ]
  },
  {
   "cell_type": "code",
   "execution_count": null,
   "id": "fe567d46",
   "metadata": {},
   "outputs": [],
   "source": []
  }
 ],
 "metadata": {
  "kernelspec": {
   "display_name": "Python 3",
   "language": "python",
   "name": "python3"
  },
  "language_info": {
   "codemirror_mode": {
    "name": "ipython",
    "version": 3
   },
   "file_extension": ".py",
   "mimetype": "text/x-python",
   "name": "python",
   "nbconvert_exporter": "python",
   "pygments_lexer": "ipython3",
   "version": "3.8.8"
  }
 },
 "nbformat": 4,
 "nbformat_minor": 5
}
