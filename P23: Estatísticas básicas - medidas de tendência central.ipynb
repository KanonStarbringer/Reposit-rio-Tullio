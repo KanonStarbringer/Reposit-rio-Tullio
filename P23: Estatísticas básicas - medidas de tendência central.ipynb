{
 "cells": [
  {
   "cell_type": "code",
   "execution_count": 1,
   "id": "88699a72",
   "metadata": {},
   "outputs": [],
   "source": [
    "#P23: Estatísticas básicas - medidas de tendência central\n",
    "import pandas as pd"
   ]
  },
  {
   "cell_type": "code",
   "execution_count": 2,
   "id": "2f16b80c",
   "metadata": {},
   "outputs": [],
   "source": [
    "dados = {\"jogador\": [\"Marcelo\",\n",
    "                    \"Pedro\",\n",
    "                    \"Marcelo\",\n",
    "                    \"Adriano\",\n",
    "                    \"Mauro\",\n",
    "                    \"Pedro\",\n",
    "                     \"Marcelo\"],\n",
    "        \"infração\": [\"FALTA VIOLENTA\",\n",
    "                    \"RECLAMAÇÃO\",\n",
    "                    \"FALTA COMUM\",\n",
    "                    \"RECLAMAÇÃO\",\n",
    "                    \"FALTA COMUM\",\n",
    "                    \"FALTA VIOLENTA\",\n",
    "                    \"RECLAMAÇÃO\"],\n",
    "        \"punição\": [4,1,3,2,4,4,2]}\n",
    "\n",
    "df = pd.DataFrame(dados)"
   ]
  },
  {
   "cell_type": "code",
   "execution_count": 3,
   "id": "fb59908e",
   "metadata": {},
   "outputs": [
    {
     "name": "stdout",
     "output_type": "stream",
     "text": [
      "média 2.857142857142857\n",
      "mediana 3.0\n",
      "moda [4]\n"
     ]
    }
   ],
   "source": [
    "#calcula as medidas de tendência central\n",
    "print(\"média\", df['punição'].mean())\n",
    "print(\"mediana\", df['punição'].median())\n",
    "print(\"moda\", df['punição'].mode().values)"
   ]
  },
  {
   "cell_type": "code",
   "execution_count": null,
   "id": "2ef02093",
   "metadata": {},
   "outputs": [],
   "source": []
  }
 ],
 "metadata": {
  "kernelspec": {
   "display_name": "Python 3",
   "language": "python",
   "name": "python3"
  },
  "language_info": {
   "codemirror_mode": {
    "name": "ipython",
    "version": 3
   },
   "file_extension": ".py",
   "mimetype": "text/x-python",
   "name": "python",
   "nbconvert_exporter": "python",
   "pygments_lexer": "ipython3",
   "version": "3.8.8"
  }
 },
 "nbformat": 4,
 "nbformat_minor": 5
}
