{
 "cells": [
  {
   "cell_type": "code",
   "execution_count": 1,
   "id": "ffe1294c",
   "metadata": {},
   "outputs": [],
   "source": [
    "#P28: Métodos unique() e value_counts()\n",
    "import pandas as pd"
   ]
  },
  {
   "cell_type": "code",
   "execution_count": 3,
   "id": "a6f4d0a2",
   "metadata": {},
   "outputs": [],
   "source": [
    "#1 cria o DataFrame\n",
    "dados = {\"sexo\": [\"F\", \"M\", \"F\", \"F\", \"F\", \"M\"],\n",
    "        \"bairro\": [\"Belverde\",\n",
    "                  \"Belverde\",\n",
    "                  \"Savassi\",\n",
    "                  \"Anchieta\",\n",
    "                  None,\n",
    "                  \"Savassi\"],\n",
    "        \"valor\": [150.00, 35.00, 80.00, 250.00, 9.90, 25.00],\n",
    "        \"cartao\": [\"Master\", \"Visa\", \"Visa\", \"Amex\",\n",
    "                  \"Elo\", \"Master\"]}\n",
    "\n",
    "id_clientes = [1,2,3,4,5,6]\n",
    "\n",
    "vendas = pd.DataFrame(dados, index=id_clientes)"
   ]
  },
  {
   "cell_type": "code",
   "execution_count": 4,
   "id": "80e25b0c",
   "metadata": {},
   "outputs": [
    {
     "name": "stdout",
     "output_type": "stream",
     "text": [
      "Domínio dos atributos categóricos\n",
      "---------------------------------\n",
      "sexo: ['F' 'M']\n",
      "bairro: ['Belverde' 'Savassi' 'Anchieta' None]\n",
      "cartao: ['Master' 'Visa' 'Amex' 'Elo']\n"
     ]
    }
   ],
   "source": [
    "#2 retorna o domínio dos atributos categóricos\n",
    "print('Domínio dos atributos categóricos')\n",
    "print('---------------------------------')\n",
    "print('sexo:', vendas['sexo'].unique() )\n",
    "print('bairro:', vendas['bairro'].unique())\n",
    "print('cartao:', vendas['cartao'].unique())"
   ]
  },
  {
   "cell_type": "code",
   "execution_count": 5,
   "id": "66d99f07",
   "metadata": {},
   "outputs": [
    {
     "name": "stdout",
     "output_type": "stream",
     "text": [
      "\n",
      "\n",
      "Tabelas de Frequencia:\n",
      "----------------------\n",
      "\n",
      "1-sexo:\n",
      "F    4\n",
      "M    2\n",
      "Name: sexo, dtype: int64\n",
      "\n",
      "2-bairro:\n",
      "Belverde    2\n",
      "Savassi     2\n",
      "Anchieta    1\n",
      "Name: bairro, dtype: int64\n",
      "\n",
      "2-cartao:\n",
      "Master    2\n",
      "Visa      2\n",
      "Amex      1\n",
      "Elo       1\n",
      "Name: cartao, dtype: int64\n"
     ]
    }
   ],
   "source": [
    "#3 retorna as frequências dos valores de cada coluna\n",
    "print('\\n')\n",
    "print('Tabelas de Frequencia:')\n",
    "print('----------------------')\n",
    "print('\\n1-sexo:')\n",
    "print(vendas['sexo'].value_counts())\n",
    "print('\\n2-bairro:')\n",
    "print(vendas['bairro'].value_counts())\n",
    "print('\\n2-cartao:')\n",
    "print(vendas['cartao'].value_counts())"
   ]
  },
  {
   "cell_type": "code",
   "execution_count": null,
   "id": "3d7f44de",
   "metadata": {},
   "outputs": [],
   "source": []
  }
 ],
 "metadata": {
  "kernelspec": {
   "display_name": "Python 3",
   "language": "python",
   "name": "python3"
  },
  "language_info": {
   "codemirror_mode": {
    "name": "ipython",
    "version": 3
   },
   "file_extension": ".py",
   "mimetype": "text/x-python",
   "name": "python",
   "nbconvert_exporter": "python",
   "pygments_lexer": "ipython3",
   "version": "3.8.8"
  }
 },
 "nbformat": 4,
 "nbformat_minor": 5
}
