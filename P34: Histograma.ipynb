{
 "cells": [
  {
   "cell_type": "code",
   "execution_count": 1,
   "id": "b4606908",
   "metadata": {},
   "outputs": [],
   "source": [
    "#P34: Histograma\n",
    "import pandas as pd"
   ]
  },
  {
   "cell_type": "code",
   "execution_count": 9,
   "id": "3f7ce0ac",
   "metadata": {},
   "outputs": [
    {
     "data": {
      "image/png": "[encoded data removed]",
      "text/plain": [
       "<Figure size 432x288 with 1 Axes>"
      ]
     },
     "metadata": {
      "needs_background": "light"
     },
     "output_type": "display_data"
    }
   ],
   "source": [
    "df = pd.DataFrame({\"tempo\": [4, 5, 1, 7, 7, 8, 6, 6, 5,\n",
    "                            2, 5, 8, 7, 1, 6, 3, 4, 8,\n",
    "                            5, 7, 4, 6, 3, 6, 2, 6, 8]})\n",
    "\n",
    "hist = df.plot(kind=\"hist\", bins=8)"
   ]
  },
  {
   "cell_type": "code",
   "execution_count": null,
   "id": "9a5a58f1",
   "metadata": {},
   "outputs": [],
   "source": []
  }
 ],
 "metadata": {
  "kernelspec": {
   "display_name": "Python 3",
   "language": "python",
   "name": "python3"
  },
  "language_info": {
   "codemirror_mode": {
    "name": "ipython",
    "version": 3
   },
   "file_extension": ".py",
   "mimetype": "text/x-python",
   "name": "python",
   "nbconvert_exporter": "python",
   "pygments_lexer": "ipython3",
   "version": "3.8.8"
  }
 },
 "nbformat": 4,
 "nbformat_minor": 5
}
