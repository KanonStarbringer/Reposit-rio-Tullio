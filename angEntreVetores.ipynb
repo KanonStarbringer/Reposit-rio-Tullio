{
 "cells": [
  {
   "cell_type": "code",
   "execution_count": 1,
   "id": "f4b84061-e180-42b3-b787-4e7e489ab63a",
   "metadata": {},
   "outputs": [],
   "source": [
    "import numpy as np\n",
    "import matplotlib.pyplot as plt"
   ]
  },
  {
   "cell_type": "code",
   "execution_count": 2,
   "id": "ba1bf2cc-d034-4a3a-a9b5-9a2db222013a",
   "metadata": {},
   "outputs": [],
   "source": [
    "def plotVectors(vecs, cols, alpha=1):\n",
    "    \n",
    "    plt.figure()\n",
    "    plt.axvline(x=0, color='#A9A9A9', zorder=0)\n",
    "    plt.axhline(y=0, color='#A9A9A9', zorder=0)\n",
    "\n",
    "    for i in range(len(vecs)):\n",
    "        X = np.concatenate([[0, 0], vecs[i]])\n",
    "        plt.quiver([X[0]],\n",
    "                   [X[1]],\n",
    "                   [X[2]],\n",
    "                   [X[3]],\n",
    "                   angles='xy', scale_units='xy', scale=1, color=cols[i],\n",
    "                  alpha=alpha)"
   ]
  },
  {
   "cell_type": "code",
   "execution_count": 4,
   "id": "220e8354-5e9d-446e-8e37-d90a2f218b77",
   "metadata": {},
   "outputs": [],
   "source": [
    "def ang_2vet(v, u):\n",
    "    v_interno_u = v.dot(u)\n",
    "    \n",
    "    vn = np.linalg.norm(v)\n",
    "    un = np.linalg.norm(u)\n",
    "    \n",
    "    r = v_interno_u/(vn*un)\n",
    "    \n",
    "    ang = np.arccos(r) #em radianos\n",
    "    \n",
    "    return 180/np.pi*ang #em graus"
   ]
  },
  {
   "cell_type": "code",
   "execution_count": 5,
   "id": "9b6900ed-4030-4ae7-bfca-15896224af68",
   "metadata": {},
   "outputs": [],
   "source": [
    "u = np.array([0, 1])\n",
    "v = np.array([1,0])"
   ]
  },
  {
   "cell_type": "code",
   "execution_count": 6,
   "id": "99c1d8ad-e8bd-4337-ab5f-ea64bc0425ce",
   "metadata": {},
   "outputs": [
    {
     "data": {
      "text/plain": [
       "(-1.0, 5.0)"
      ]
     },
     "execution_count": 6,
     "metadata": {},
     "output_type": "execute_result"
    },
    {
     "data": {
      "image/png": "[encoded data removed]",
      "text/plain": [
       "<Figure size 432x288 with 1 Axes>"
      ]
     },
     "metadata": {
      "needs_background": "light"
     },
     "output_type": "display_data"
    }
   ],
   "source": [
    "red = 'red'\n",
    "blue = 'blue'\n",
    "\n",
    "plotVectors([u, v], [red, blue])\n",
    "plt.xlim(-1, 5)\n",
    "plt.ylim(-1, 5)"
   ]
  },
  {
   "cell_type": "code",
   "execution_count": 7,
   "id": "01f175ec-383a-45af-bb76-28bef09e6a3c",
   "metadata": {},
   "outputs": [
    {
     "data": {
      "text/plain": [
       "90.0"
      ]
     },
     "execution_count": 7,
     "metadata": {},
     "output_type": "execute_result"
    }
   ],
   "source": [
    "ang_2vet(u, v)"
   ]
  },
  {
   "cell_type": "code",
   "execution_count": 8,
   "id": "74270912-5b42-4059-8704-225a4927a397",
   "metadata": {},
   "outputs": [],
   "source": [
    "u2 = np.array([1, 1])\n",
    "u3 = np.array([1, 0])"
   ]
  },
  {
   "cell_type": "code",
   "execution_count": 9,
   "id": "39b7c249-2f06-46e2-89f0-65805acac17b",
   "metadata": {},
   "outputs": [
    {
     "data": {
      "text/plain": [
       "(-1.0, 2.0)"
      ]
     },
     "execution_count": 9,
     "metadata": {},
     "output_type": "execute_result"
    },
    {
     "data": {
      "image/png": "[encoded data removed]",
      "text/plain": [
       "<Figure size 432x288 with 1 Axes>"
      ]
     },
     "metadata": {
      "needs_background": "light"
     },
     "output_type": "display_data"
    }
   ],
   "source": [
    "red = 'red'\n",
    "blue = 'blue'\n",
    "\n",
    "plotVectors([u2, u3], [red, blue])\n",
    "plt.xlim(-1, 2)\n",
    "plt.ylim(-1, 2)"
   ]
  },
  {
   "cell_type": "code",
   "execution_count": 10,
   "id": "15781591-ba11-4a92-a616-9718e57015f3",
   "metadata": {},
   "outputs": [
    {
     "data": {
      "text/plain": [
       "45.00000000000001"
      ]
     },
     "execution_count": 10,
     "metadata": {},
     "output_type": "execute_result"
    }
   ],
   "source": [
    "ang_2vet(u2, u3)"
   ]
  },
  {
   "cell_type": "code",
   "execution_count": null,
   "id": "afa3d8b4-5ebd-4344-898f-e30615aba43e",
   "metadata": {},
   "outputs": [],
   "source": []
  }
 ],
 "metadata": {
  "kernelspec": {
   "display_name": "Python 3",
   "language": "python",
   "name": "python3"
  },
  "language_info": {
   "codemirror_mode": {
    "name": "ipython",
    "version": 3
   },
   "file_extension": ".py",
   "mimetype": "text/x-python",
   "name": "python",
   "nbconvert_exporter": "python",
   "pygments_lexer": "ipython3",
   "version": "3.8.8"
  }
 },
 "nbformat": 4,
 "nbformat_minor": 5
}
