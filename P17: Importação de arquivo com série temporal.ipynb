{
 "cells": [
  {
   "cell_type": "code",
   "execution_count": 1,
   "id": "b139a1f2",
   "metadata": {},
   "outputs": [],
   "source": [
    "#P17: Importação de arquivo com série temporal\n",
    "import pandas as pd"
   ]
  },
  {
   "cell_type": "code",
   "execution_count": 2,
   "id": "9d4d0fee",
   "metadata": {},
   "outputs": [],
   "source": [
    "#importa o arquivo para um DataFrame\n",
    "serie_gols = pd.read_csv(\"/Users/TullioPires/serie_gols.txt\", sep=\" \", index_col=0)"
   ]
  },
  {
   "cell_type": "code",
   "execution_count": 3,
   "id": "b2f9bf81",
   "metadata": {},
   "outputs": [],
   "source": [
    "#converte o DataFrame para uma Series\n",
    "serie_gols = serie_gols.squeeze(\"columns\")"
   ]
  },
  {
   "cell_type": "code",
   "execution_count": 4,
   "id": "f0f8a784",
   "metadata": {},
   "outputs": [],
   "source": [
    "#converte o tipo do índice para datetime e imprime a série\n",
    "serie_gols.index = pd.to_datetime(serie_gols.index, format = '%d/%m/%Y')"
   ]
  },
  {
   "cell_type": "code",
   "execution_count": 5,
   "id": "73b74375",
   "metadata": {},
   "outputs": [
    {
     "name": "stdout",
     "output_type": "stream",
     "text": [
      "dia\n",
      "2019-06-05    1\n",
      "2019-06-09    0\n",
      "2019-06-16    5\n",
      "2019-06-19    2\n",
      "2019-06-23    1\n",
      "2019-06-27    3\n",
      "2019-06-30    0\n",
      "Name: gols, dtype: int64\n"
     ]
    }
   ],
   "source": [
    "print(serie_gols)"
   ]
  },
  {
   "cell_type": "code",
   "execution_count": null,
   "id": "615ec10b",
   "metadata": {},
   "outputs": [],
   "source": []
  }
 ],
 "metadata": {
  "kernelspec": {
   "display_name": "Python 3",
   "language": "python",
   "name": "python3"
  },
  "language_info": {
   "codemirror_mode": {
    "name": "ipython",
    "version": 3
   },
   "file_extension": ".py",
   "mimetype": "text/x-python",
   "name": "python",
   "nbconvert_exporter": "python",
   "pygments_lexer": "ipython3",
   "version": "3.8.8"
  }
 },
 "nbformat": 4,
 "nbformat_minor": 5
}
