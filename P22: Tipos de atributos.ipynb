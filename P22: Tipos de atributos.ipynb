{
 "cells": [
  {
   "cell_type": "code",
   "execution_count": 1,
   "id": "ceb939f8",
   "metadata": {},
   "outputs": [],
   "source": [
    "#P22: Tipos de atributos\n",
    "import pandas as pd"
   ]
  },
  {
   "cell_type": "code",
   "execution_count": 2,
   "id": "830fc249",
   "metadata": {},
   "outputs": [],
   "source": [
    "#Cria o DataFrame PME\n",
    "dados = {\"renda\": [6.46, 1.50, 0.00,\n",
    "                  2.57, 9.90, 6.22],\n",
    "        \"empregos\": [1,1,0,1,2,3],\n",
    "        \"sexo\": [\"F\", \"M\", \"F\", \"M\", \"M\", \"F\"],\n",
    "        \"escolaridade\": [\"Pós-graduação\", \"fundamental\",\n",
    "                         \"médio\", \"médio\", \n",
    "                         \"superior\", \"médio\"]}\n",
    "\n",
    "pme = pd.DataFrame(dados)"
   ]
  },
  {
   "cell_type": "code",
   "execution_count": 3,
   "id": "608eecc7",
   "metadata": {},
   "outputs": [
    {
     "name": "stdout",
     "output_type": "stream",
     "text": [
      "\n",
      "atributos e seus dtypes:\n",
      "--------------------------\n",
      "renda           float64\n",
      "empregos          int64\n",
      "sexo             object\n",
      "escolaridade     object\n",
      "dtype: object\n"
     ]
    }
   ],
   "source": [
    "#Imprime o dado de cada atributo e seu dtype\n",
    "print(\"\\natributos e seus dtypes:\")\n",
    "print(\"--------------------------\")\n",
    "print(pme.dtypes)"
   ]
  },
  {
   "cell_type": "code",
   "execution_count": null,
   "id": "2dd59b8a",
   "metadata": {},
   "outputs": [],
   "source": []
  }
 ],
 "metadata": {
  "kernelspec": {
   "display_name": "Python 3",
   "language": "python",
   "name": "python3"
  },
  "language_info": {
   "codemirror_mode": {
    "name": "ipython",
    "version": 3
   },
   "file_extension": ".py",
   "mimetype": "text/x-python",
   "name": "python",
   "nbconvert_exporter": "python",
   "pygments_lexer": "ipython3",
   "version": "3.8.8"
  }
 },
 "nbformat": 4,
 "nbformat_minor": 5
}
