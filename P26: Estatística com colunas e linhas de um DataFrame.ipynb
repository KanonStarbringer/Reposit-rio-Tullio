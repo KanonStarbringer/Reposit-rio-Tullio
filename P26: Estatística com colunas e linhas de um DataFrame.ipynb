{
 "cells": [
  {
   "cell_type": "code",
   "execution_count": 2,
   "id": "1ba82eeb",
   "metadata": {},
   "outputs": [],
   "source": [
    "#P26: Estatística com colunas e linhas de um DataFrame\n",
    "import pandas as pd"
   ]
  },
  {
   "cell_type": "code",
   "execution_count": 3,
   "id": "ea0f71db",
   "metadata": {},
   "outputs": [],
   "source": [
    "#Cria um DataFrame com as notas de 4 alunos, em 3 provas\n",
    "notas = pd.DataFrame({\"A1\": [9.8, 7.2, 8.0],\n",
    "                     \"A2\": [5.3, 4.0, 3.5],\n",
    "                     \"A3\": [7.0, 7.5, 6.5]},\n",
    "                    index=[\"P1\", \"P2\", \"P3\"])"
   ]
  },
  {
   "cell_type": "code",
   "execution_count": 4,
   "id": "1233273b",
   "metadata": {},
   "outputs": [
    {
     "name": "stdout",
     "output_type": "stream",
     "text": [
      "\n",
      "notas finais:\n",
      "---------------\n",
      "     A1   A2   A3\n",
      "P1  9.8  5.3  7.0\n",
      "P2  7.2  4.0  7.5\n",
      "P3  8.0  3.5  6.5\n"
     ]
    }
   ],
   "source": [
    "#imprime o DataFrame\n",
    "print(\"\\nnotas finais:\")\n",
    "print(\"---------------\")\n",
    "print(notas)"
   ]
  },
  {
   "cell_type": "code",
   "execution_count": 5,
   "id": "8d88a351",
   "metadata": {},
   "outputs": [
    {
     "name": "stdout",
     "output_type": "stream",
     "text": [
      "\n",
      "média de cada aluno:\n",
      "---------------\n",
      "A1    8.333333\n",
      "A2    4.266667\n",
      "A3    7.000000\n",
      "dtype: float64\n",
      "\n",
      "maior nota de cada aluno:\n",
      "---------------\n",
      "A1    9.8\n",
      "A2    5.3\n",
      "A3    7.5\n",
      "dtype: float64\n",
      "\n",
      "média de cada prova:\n",
      "---------------\n",
      "P1    7.366667\n",
      "P2    6.233333\n",
      "P3    6.000000\n",
      "dtype: float64\n",
      "\n",
      "maior nota de cada prova:\n",
      "---------------\n",
      "P1    9.8\n",
      "P2    7.5\n",
      "P3    8.0\n",
      "dtype: float64\n"
     ]
    }
   ],
   "source": [
    "#computa e imprime as estatísticas por aluno e prova\n",
    "print(\"\\nmédia de cada aluno:\")\n",
    "print(\"---------------\")\n",
    "print(notas.mean())\n",
    "\n",
    "print(\"\\nmaior nota de cada aluno:\")\n",
    "print(\"---------------\")\n",
    "print(notas.max())\n",
    "\n",
    "print(\"\\nmédia de cada prova:\")\n",
    "print(\"---------------\")\n",
    "print(notas.mean(axis=1))\n",
    "\n",
    "print(\"\\nmaior nota de cada prova:\")\n",
    "print(\"---------------\")\n",
    "print(notas.max(axis=1))"
   ]
  },
  {
   "cell_type": "code",
   "execution_count": null,
   "id": "b8fb95b8",
   "metadata": {},
   "outputs": [],
   "source": []
  }
 ],
 "metadata": {
  "kernelspec": {
   "display_name": "Python 3",
   "language": "python",
   "name": "python3"
  },
  "language_info": {
   "codemirror_mode": {
    "name": "ipython",
    "version": 3
   },
   "file_extension": ".py",
   "mimetype": "text/x-python",
   "name": "python",
   "nbconvert_exporter": "python",
   "pygments_lexer": "ipython3",
   "version": "3.8.8"
  }
 },
 "nbformat": 4,
 "nbformat_minor": 5
}
