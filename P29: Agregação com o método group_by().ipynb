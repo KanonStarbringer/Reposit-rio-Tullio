{
 "cells": [
  {
   "cell_type": "code",
   "execution_count": 1,
   "id": "4e6c856d",
   "metadata": {},
   "outputs": [],
   "source": [
    "#P29: Agregação com o método group_by()\n",
    "import pandas as pd"
   ]
  },
  {
   "cell_type": "code",
   "execution_count": 2,
   "id": "b262342f",
   "metadata": {},
   "outputs": [],
   "source": [
    "#1 cria o DataFrame\n",
    "dados = {\"sexo\": [\"F\", \"M\", \"F\", \"F\", \"F\", \"M\"],\n",
    "        \"bairro\": [\"Belverde\",\n",
    "                  \"Belverde\",\n",
    "                  \"Savassi\",\n",
    "                  \"Anchieta\",\n",
    "                  None,\n",
    "                  \"Savassi\"],\n",
    "        \"valor\": [150.00,\n",
    "                 35.00,\n",
    "                 80.00,\n",
    "                 250.00,\n",
    "                 9.90,\n",
    "                 25.00],\n",
    "        \"cartao\": [\"Master\",\n",
    "                  \"Visa\",\n",
    "                  \"Visa\",\n",
    "                  \"Amex\",\n",
    "                  \"Elo\",\n",
    "                  \"Master\"]}\n",
    "\n",
    "id_clientes = [1,2,3,4,5,6]\n",
    "\n",
    "vendas = pd.DataFrame(dados, index=id_clientes)"
   ]
  },
  {
   "cell_type": "code",
   "execution_count": 5,
   "id": "9bcb8579",
   "metadata": {},
   "outputs": [],
   "source": [
    "#2 Gera uma variável grouped, onde a chave é bairro e a media é valor\n",
    "grupo_valor_bairro = vendas['valor'].groupby(vendas['bairro'])"
   ]
  },
  {
   "cell_type": "code",
   "execution_count": 6,
   "id": "7ba59de3",
   "metadata": {},
   "outputs": [
    {
     "name": "stdout",
     "output_type": "stream",
     "text": [
      "- quantidade de clientes, por bairro:\\  bairro\n",
      "Anchieta    1\n",
      "Belverde    2\n",
      "Savassi     2\n",
      "Name: valor, dtype: int64\n",
      "-------------------------------------------------------------------\n",
      "- valor total das vendas, por bairro:\\  bairro\n",
      "Anchieta    250.0\n",
      "Belverde    185.0\n",
      "Savassi     105.0\n",
      "Name: valor, dtype: float64\n",
      "-----------------------------------------------------------------\n",
      "- valor médio das vendas, por bairro:\\  bairro\n",
      "Anchieta    250.0\n",
      "Belverde     92.5\n",
      "Savassi      52.5\n",
      "Name: valor, dtype: float64\n"
     ]
    }
   ],
   "source": [
    "#3 Computa agregados a partir da variável gerada\n",
    "print('- quantidade de clientes, por bairro:\\ ', grupo_valor_bairro.count())\n",
    "print('-------------------------------------------------------------------')\n",
    "print('- valor total das vendas, por bairro:\\ ', grupo_valor_bairro.sum())\n",
    "print('-----------------------------------------------------------------')\n",
    "print('- valor médio das vendas, por bairro:\\ ', grupo_valor_bairro.mean())"
   ]
  },
  {
   "cell_type": "code",
   "execution_count": 7,
   "id": "27edf610",
   "metadata": {},
   "outputs": [],
   "source": [
    "#4 criando um grupo que cruza o valor sexo e bairro\n",
    "grupo_valor_sexo_bairro = vendas['valor'].groupby([vendas['sexo'], vendas['bairro']])"
   ]
  },
  {
   "cell_type": "code",
   "execution_count": 8,
   "id": "7d84907c",
   "metadata": {},
   "outputs": [
    {
     "name": "stdout",
     "output_type": "stream",
     "text": [
      "- quantidade de clientes, por bairro:\\  sexo  bairro  \n",
      "F     Anchieta    1\n",
      "      Belverde    1\n",
      "      Savassi     1\n",
      "M     Belverde    1\n",
      "      Savassi     1\n",
      "Name: valor, dtype: int64\n",
      "-------------------------------------------------------------------\n",
      "- valor total das vendas, por bairro:\\  sexo  bairro  \n",
      "F     Anchieta    250.0\n",
      "      Belverde    150.0\n",
      "      Savassi      80.0\n",
      "M     Belverde     35.0\n",
      "      Savassi      25.0\n",
      "Name: valor, dtype: float64\n",
      "-----------------------------------------------------------------\n",
      "- valor médio das vendas, por bairro:\\  sexo  bairro  \n",
      "F     Anchieta    250.0\n",
      "      Belverde    150.0\n",
      "      Savassi      80.0\n",
      "M     Belverde     35.0\n",
      "      Savassi      25.0\n",
      "Name: valor, dtype: float64\n"
     ]
    }
   ],
   "source": [
    "print('- quantidade de clientes, por bairro:\\ ', grupo_valor_sexo_bairro.count())\n",
    "print('-------------------------------------------------------------------')\n",
    "print('- valor total das vendas, por bairro:\\ ', grupo_valor_sexo_bairro.sum())\n",
    "print('-----------------------------------------------------------------')\n",
    "print('- valor médio das vendas, por bairro:\\ ', grupo_valor_sexo_bairro.mean())"
   ]
  },
  {
   "cell_type": "code",
   "execution_count": null,
   "id": "d9fe0515",
   "metadata": {},
   "outputs": [],
   "source": []
  }
 ],
 "metadata": {
  "kernelspec": {
   "display_name": "Python 3",
   "language": "python",
   "name": "python3"
  },
  "language_info": {
   "codemirror_mode": {
    "name": "ipython",
    "version": 3
   },
   "file_extension": ".py",
   "mimetype": "text/x-python",
   "name": "python",
   "nbconvert_exporter": "python",
   "pygments_lexer": "ipython3",
   "version": "3.8.8"
  }
 },
 "nbformat": 4,
 "nbformat_minor": 5
}
