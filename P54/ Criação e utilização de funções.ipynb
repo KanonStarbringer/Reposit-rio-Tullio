{
 "cells": [
  {
   "cell_type": "code",
   "execution_count": 2,
   "id": "839624ac",
   "metadata": {},
   "outputs": [
    {
     "name": "stdout",
     "output_type": "stream",
     "text": [
      "Classe de extensão territorial\n",
      "Brasil: A\n",
      "Moçambique: B\n",
      "Portugal: A\n",
      "Timor Leste: E\n"
     ]
    }
   ],
   "source": [
    "#P54: Criação e utilização de funções\n",
    "def classe_area(area):\n",
    "    if (area<10):\n",
    "        return 'F'\n",
    "    elif (area >= 10 and area<50):\n",
    "        return 'E'\n",
    "    elif (area >=100 and area<500):\n",
    "        return 'C'\n",
    "    elif (area>=500 and area<1000):\n",
    "        return 'B'\n",
    "    else:\n",
    "        return 'A'\n",
    "    \n",
    "print('Classe de extensão territorial')\n",
    "print('Brasil:', classe_area(8515))\n",
    "print('Moçambique:', classe_area(801))\n",
    "print('Portugal:', classe_area(92))\n",
    "print('Timor Leste:', classe_area(14))\n",
    "          \n",
    "        "
   ]
  },
  {
   "cell_type": "code",
   "execution_count": null,
   "id": "f16483ab",
   "metadata": {},
   "outputs": [],
   "source": []
  }
 ],
 "metadata": {
  "kernelspec": {
   "display_name": "Python 3",
   "language": "python",
   "name": "python3"
  },
  "language_info": {
   "codemirror_mode": {
    "name": "ipython",
    "version": 3
   },
   "file_extension": ".py",
   "mimetype": "text/x-python",
   "name": "python",
   "nbconvert_exporter": "python",
   "pygments_lexer": "ipython3",
   "version": "3.8.8"
  }
 },
 "nbformat": 4,
 "nbformat_minor": 5
}
