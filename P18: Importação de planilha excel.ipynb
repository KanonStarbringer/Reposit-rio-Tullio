{
 "cells": [
  {
   "cell_type": "code",
   "execution_count": 1,
   "id": "7b0d08dd",
   "metadata": {},
   "outputs": [],
   "source": [
    "#P18: Importação de planilha excel\n",
    "import pandas as pd"
   ]
  },
  {
   "cell_type": "code",
   "execution_count": 2,
   "id": "7deb58f2",
   "metadata": {},
   "outputs": [
    {
     "name": "stdout",
     "output_type": "stream",
     "text": [
      "            capital   região  população\n",
      "0   Belém            Sudeste    1446042\n",
      "1   Belo Horizonte   Sudeste    2513451\n",
      "2   Boa Vista          Norte     326419\n",
      "3   Curitiba             Sul    1893977\n",
      "4   Florianópolis        Sul     477798\n",
      "5   Macapá             Norte     465495\n",
      "6   Manaus             Norte    2094391\n",
      "7   Palmas             Norte     279856\n",
      "8   Porto Alegre         Sul    1481019\n",
      "9   Porto Velho        Norte     511219\n",
      "10  Rio Branco         Norte     377057\n",
      "11  São Paulo        Sudeste   12038175\n",
      "12  Rio de Janeiro   Sudeste    6498837\n",
      "13  Vitória          Sudeste     359555\n"
     ]
    }
   ],
   "source": [
    "cidades = pd.read_excel(\"/Users/TullioPires/capitais.xlsx\")\n",
    "print(cidades)"
   ]
  },
  {
   "cell_type": "code",
   "execution_count": null,
   "id": "f7245199",
   "metadata": {},
   "outputs": [],
   "source": []
  }
 ],
 "metadata": {
  "kernelspec": {
   "display_name": "Python 3",
   "language": "python",
   "name": "python3"
  },
  "language_info": {
   "codemirror_mode": {
    "name": "ipython",
    "version": 3
   },
   "file_extension": ".py",
   "mimetype": "text/x-python",
   "name": "python",
   "nbconvert_exporter": "python",
   "pygments_lexer": "ipython3",
   "version": "3.8.8"
  }
 },
 "nbformat": 4,
 "nbformat_minor": 5
}
