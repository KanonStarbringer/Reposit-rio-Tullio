{
 "cells": [
  {
   "cell_type": "code",
   "execution_count": 1,
   "id": "85bcf1fa",
   "metadata": {},
   "outputs": [],
   "source": [
    "#P42: Comparação de DataFrames\n",
    "import pandas as pd"
   ]
  },
  {
   "cell_type": "code",
   "execution_count": 2,
   "id": "f4c214ff",
   "metadata": {},
   "outputs": [],
   "source": [
    "#1 Cria três DataFrames de filmes\n",
    "filmes1 = pd.DataFrame({'titulo': ['O filho da noiva',\n",
    "                                   'La La Land'],\n",
    "                       'ano': [2001, 2017]})\n",
    "\n",
    "filmes2 = pd.DataFrame({'titulo': ['Noel, Poeta da Vila',\n",
    "                                  'La La Land'],\n",
    "                       'ano': [2007, 2017]})\n",
    "\n",
    "filmes3 = pd.DataFrame({'titulo': ['O filho da noiva',\n",
    "                                  'La La Land'],\n",
    "                       'ano': [2001, 2017]})"
   ]
  },
  {
   "cell_type": "code",
   "execution_count": 3,
   "id": "b1ac22d7",
   "metadata": {},
   "outputs": [
    {
     "name": "stdout",
     "output_type": "stream",
     "text": [
      "filmes 1 é igual a filmes2? False\n",
      "filmes 1 é igual a filmes3? True\n"
     ]
    }
   ],
   "source": [
    "#2 Verifica quais DataFrames são iguais\n",
    "print('filmes 1 é igual a filmes2?', filmes1.equals(filmes2))\n",
    "print('filmes 1 é igual a filmes3?', filmes1.equals(filmes3))"
   ]
  },
  {
   "cell_type": "code",
   "execution_count": null,
   "id": "90b4eb56",
   "metadata": {},
   "outputs": [],
   "source": []
  }
 ],
 "metadata": {
  "kernelspec": {
   "display_name": "Python 3",
   "language": "python",
   "name": "python3"
  },
  "language_info": {
   "codemirror_mode": {
    "name": "ipython",
    "version": 3
   },
   "file_extension": ".py",
   "mimetype": "text/x-python",
   "name": "python",
   "nbconvert_exporter": "python",
   "pygments_lexer": "ipython3",
   "version": "3.8.8"
  }
 },
 "nbformat": 4,
 "nbformat_minor": 5
}
