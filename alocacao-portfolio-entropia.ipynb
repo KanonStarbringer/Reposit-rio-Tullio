{
 "cells": [
  {
   "cell_type": "code",
   "execution_count": 107,
   "id": "7aee0ff4",
   "metadata": {},
   "outputs": [],
   "source": [
    "import numpy as np\n",
    "from scipy.optimize import minimize\n",
    "import yfinance as yf\n",
    "\n",
    "# List of stock tickers\n",
    "tickers = ['AAPL', 'GOOG', 'AMZN', 'TSLA']"
   ]
  },
  {
   "cell_type": "code",
   "execution_count": 108,
   "id": "436d4c2e",
   "metadata": {},
   "outputs": [
    {
     "name": "stdout",
     "output_type": "stream",
     "text": [
      "[*********************100%***********************]  4 of 4 completed\n"
     ]
    }
   ],
   "source": [
    "# Download stock data\n",
    "data = yf.download(tickers, start='2010-01-01', end='2020-12-31')['Adj Close']"
   ]
  },
  {
   "cell_type": "code",
   "execution_count": 109,
   "id": "26c6f482",
   "metadata": {},
   "outputs": [],
   "source": [
    "# Calculate daily returns\n",
    "returns = data.pct_change()"
   ]
  },
  {
   "cell_type": "code",
   "execution_count": 110,
   "id": "c0008c6d",
   "metadata": {},
   "outputs": [],
   "source": [
    "# Calculate the covariance matrix\n",
    "covariance_matrix = returns.cov()"
   ]
  },
  {
   "cell_type": "code",
   "execution_count": 111,
   "id": "80afb039",
   "metadata": {},
   "outputs": [],
   "source": [
    "# Define the entropy function\n",
    "def entropy(w, covariance_matrix):\n",
    "    variances = np.diag(np.dot(w, covariance_matrix))\n",
    "    return -np.sum(variances * np.log(variances + 1e-10))"
   ]
  },
  {
   "cell_type": "code",
   "execution_count": 112,
   "id": "231fac01",
   "metadata": {},
   "outputs": [],
   "source": [
    "# Define the optimization constraints\n",
    "constraints = [{'type': 'ineq', 'fun': lambda w: w}]"
   ]
  },
  {
   "cell_type": "code",
   "execution_count": 113,
   "id": "ae269114",
   "metadata": {},
   "outputs": [],
   "source": [
    "# Define the initial weights\n",
    "initial_weights = [1/len(returns.columns) for i in range(len(returns.columns))]"
   ]
  },
  {
   "cell_type": "code",
   "execution_count": 114,
   "id": "b1ddc97f",
   "metadata": {},
   "outputs": [],
   "source": [
    "bounds = [(0, 1) for i in range(len(initial_weights))]"
   ]
  },
  {
   "cell_type": "code",
   "execution_count": 115,
   "id": "2dcd5e33",
   "metadata": {},
   "outputs": [],
   "source": [
    "result = minimize(entropy, initial_weights, args=(covariance_matrix,), bounds=bounds, constraints=constraints, method='SLSQP')"
   ]
  },
  {
   "cell_type": "code",
   "execution_count": 116,
   "id": "44cf9799",
   "metadata": {},
   "outputs": [],
   "source": [
    "optimal_weights = result.x"
   ]
  },
  {
   "cell_type": "code",
   "execution_count": 117,
   "id": "650501f2",
   "metadata": {},
   "outputs": [
    {
     "name": "stdout",
     "output_type": "stream",
     "text": [
      "[6.37592734e-14 1.73499635e-14 7.60775991e-14 8.41442057e-15]\n"
     ]
    }
   ],
   "source": [
    "print(optimal_weights)"
   ]
  },
  {
   "cell_type": "code",
   "execution_count": null,
   "id": "ecf51ef9",
   "metadata": {},
   "outputs": [],
   "source": []
  }
 ],
 "metadata": {
  "kernelspec": {
   "display_name": "Python 3",
   "language": "python",
   "name": "python3"
  },
  "language_info": {
   "codemirror_mode": {
    "name": "ipython",
    "version": 3
   },
   "file_extension": ".py",
   "mimetype": "text/x-python",
   "name": "python",
   "nbconvert_exporter": "python",
   "pygments_lexer": "ipython3",
   "version": "3.8.8"
  }
 },
 "nbformat": 4,
 "nbformat_minor": 5
}
