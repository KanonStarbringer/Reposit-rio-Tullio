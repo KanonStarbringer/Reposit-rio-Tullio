{
 "cells": [
  {
   "cell_type": "code",
   "execution_count": 13,
   "id": "7aee0ff4",
   "metadata": {},
   "outputs": [],
   "source": [
    "import numpy as np\n",
    "import pandas as pd\n",
    "from scipy.optimize import minimize\n",
    "import yfinance as yf\n",
    "\n",
    "# List of stock tickers\n",
    "tickers = ['BTC', 'ETH-USD', 'SOL']"
   ]
  },
  {
   "cell_type": "code",
   "execution_count": 14,
   "id": "436d4c2e",
   "metadata": {},
   "outputs": [
    {
     "name": "stdout",
     "output_type": "stream",
     "text": [
      "[*********************100%***********************]  3 of 3 completed\n"
     ]
    }
   ],
   "source": [
    "# Download stock data\n",
    "data = yf.download(tickers, start='2021-01-01', end='2022-12-31')['Adj Close']"
   ]
  },
  {
   "cell_type": "code",
   "execution_count": 15,
   "id": "26c6f482",
   "metadata": {},
   "outputs": [],
   "source": [
    "# Calculate daily returns\n",
    "returns = data.pct_change()"
   ]
  },
  {
   "cell_type": "code",
   "execution_count": 16,
   "id": "c0008c6d",
   "metadata": {},
   "outputs": [],
   "source": [
    "# Calculate the covariance matrix\n",
    "covariance_matrix = returns.cov()"
   ]
  },
  {
   "cell_type": "code",
   "execution_count": 25,
   "id": "80afb039",
   "metadata": {},
   "outputs": [],
   "source": [
    "# Define the entropy function\n",
    "def entropy(w, covariance_matrix):\n",
    "    variances = np.diag(np.dot(w, covariance_matrix))\n",
    "    return -np.sum(variances * np.log(variances + 1e-1000))"
   ]
  },
  {
   "cell_type": "code",
   "execution_count": 26,
   "id": "231fac01",
   "metadata": {},
   "outputs": [],
   "source": [
    "# Define the optimization constraints\n",
    "constraints = [{'type': 'ineq', 'fun': lambda w: w}]"
   ]
  },
  {
   "cell_type": "code",
   "execution_count": 27,
   "id": "ae269114",
   "metadata": {},
   "outputs": [],
   "source": [
    "# Define the initial weights\n",
    "initial_weights = [1/len(returns.columns) for i in range(len(returns.columns))]"
   ]
  },
  {
   "cell_type": "code",
   "execution_count": 28,
   "id": "b1ddc97f",
   "metadata": {},
   "outputs": [],
   "source": [
    "bounds = [(0, 1) for i in range(len(initial_weights))]"
   ]
  },
  {
   "cell_type": "code",
   "execution_count": 29,
   "id": "2dcd5e33",
   "metadata": {},
   "outputs": [
    {
     "name": "stderr",
     "output_type": "stream",
     "text": [
      "<ipython-input-25-b7938af124ad>:4: RuntimeWarning: divide by zero encountered in log\n",
      "  return -np.sum(variances * np.log(variances + 1e-1000))\n",
      "<ipython-input-25-b7938af124ad>:4: RuntimeWarning: invalid value encountered in multiply\n",
      "  return -np.sum(variances * np.log(variances + 1e-1000))\n"
     ]
    }
   ],
   "source": [
    "result = minimize(entropy, initial_weights, args=(covariance_matrix,), bounds=bounds, constraints=constraints, method='SLSQP')"
   ]
  },
  {
   "cell_type": "code",
   "execution_count": 30,
   "id": "44cf9799",
   "metadata": {},
   "outputs": [],
   "source": [
    "optimal_weights = result.x"
   ]
  },
  {
   "cell_type": "code",
   "execution_count": 31,
   "id": "650501f2",
   "metadata": {},
   "outputs": [
    {
     "name": "stdout",
     "output_type": "stream",
     "text": [
      "    Ticker    Weight  Percentage\n",
      "0      BTC  0.333333   33.333333\n",
      "1  ETH-USD  0.333333   33.333333\n",
      "2      SOL  0.333333   33.333333\n"
     ]
    }
   ],
   "source": [
    "# Create a new DataFrame with the optimal weights and tickers\n",
    "df = pd.DataFrame({'Ticker': tickers, 'Weight': optimal_weights})\n",
    "\n",
    "# Calculate the percentage of each stock\n",
    "df['Percentage'] = df['Weight'] * 100\n",
    "\n",
    "# Display the DataFrame\n",
    "print(df)"
   ]
  },
  {
   "cell_type": "code",
   "execution_count": 32,
   "id": "2528318f",
   "metadata": {},
   "outputs": [
    {
     "name": "stdout",
     "output_type": "stream",
     "text": [
      "         Weight (%)\n",
      "BTC       33.333333\n",
      "ETH-USD   33.333333\n",
      "SOL       33.333333\n"
     ]
    }
   ],
   "source": [
    "# Round the weights to 15 decimal places\n",
    "optimal_weights_rounded = np.round(optimal_weights, 15)\n",
    "\n",
    "# Create a new DataFrame with the rounded weights and the tickers as the index\n",
    "results_df = pd.DataFrame(optimal_weights_rounded, index=tickers, columns=['Weight (%)'])\n",
    "\n",
    "# Multiply the weights by 100 to express them as percentages\n",
    "results_df['Weight (%)'] = results_df['Weight (%)']*100\n",
    "\n",
    "# Print the DataFrame\n",
    "print(results_df)"
   ]
  },
  {
   "cell_type": "code",
   "execution_count": null,
   "id": "1d3290ce",
   "metadata": {},
   "outputs": [],
   "source": []
  }
 ],
 "metadata": {
  "kernelspec": {
   "display_name": "Python 3",
   "language": "python",
   "name": "python3"
  },
  "language_info": {
   "codemirror_mode": {
    "name": "ipython",
    "version": 3
   },
   "file_extension": ".py",
   "mimetype": "text/x-python",
   "name": "python",
   "nbconvert_exporter": "python",
   "pygments_lexer": "ipython3",
   "version": "3.8.8"
  }
 },
 "nbformat": 4,
 "nbformat_minor": 5
}
