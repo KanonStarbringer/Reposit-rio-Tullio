{
 "cells": [
  {
   "cell_type": "code",
   "execution_count": 1,
   "id": "80d95b3a",
   "metadata": {},
   "outputs": [],
   "source": [
    "#P24: Estatística básica - medidas de dispersão\n",
    "import pandas as pd"
   ]
  },
  {
   "cell_type": "code",
   "execution_count": 2,
   "id": "22994d85",
   "metadata": {},
   "outputs": [],
   "source": [
    "#Cria o DataFrame\n",
    "dados = {\"Jogador\": [\"Marcelo\",\n",
    "                    \"Pedro\",\n",
    "                    \"Marcelo\",\n",
    "                    \"Adriano\",\n",
    "                    \"Mauro\",\n",
    "                    \"Pedro\",\n",
    "                    \"Marcelo\"],\n",
    "        \"Infração\": [\"Falta Violenta\",\n",
    "                    \"Reclamação\",\n",
    "                    \"Falta comum\",\n",
    "                    \"Reclamação\",\n",
    "                    \"Falta comum\",\n",
    "                    \"Falta violenta\",\n",
    "                    \"Reclamação\"],\n",
    "        \"juiz_A\": [4,1,3,2,4,4,2],\n",
    "        \"juiz_B\": [2,1,4,1,1,5,6]}"
   ]
  },
  {
   "cell_type": "code",
   "execution_count": 3,
   "id": "4ce970df",
   "metadata": {},
   "outputs": [],
   "source": [
    "df = pd.DataFrame(dados)"
   ]
  },
  {
   "cell_type": "code",
   "execution_count": 4,
   "id": "0d14a679",
   "metadata": {},
   "outputs": [
    {
     "name": "stdout",
     "output_type": "stream",
     "text": [
      "juiz_A:\n",
      "-------\n",
      "amplitude 3\n",
      "variancia 1.476190476190476\n",
      "desv_pad 1.2149857925879117\n",
      "juiz_B:\n",
      "-------\n",
      "amplitude 5\n",
      "variancia 4.476190476190476\n",
      "desv_pad 2.1157009420498154\n"
     ]
    }
   ],
   "source": [
    "#Calcula as medidas de dispersão\n",
    "print(\"juiz_A:\")\n",
    "print(\"-------\")\n",
    "print(\"amplitude\", df['juiz_A'].max() - df['juiz_A'].min())\n",
    "print(\"variancia\", df['juiz_A'].var())\n",
    "print(\"desv_pad\", df['juiz_A'].std())\n",
    "\n",
    "print(\"juiz_B:\")\n",
    "print(\"-------\")\n",
    "print(\"amplitude\", df['juiz_B'].max() - df['juiz_B'].min())\n",
    "print(\"variancia\", df['juiz_B'].var())\n",
    "print(\"desv_pad\", df['juiz_B'].std())"
   ]
  },
  {
   "cell_type": "code",
   "execution_count": null,
   "id": "477f62d5",
   "metadata": {},
   "outputs": [],
   "source": []
  }
 ],
 "metadata": {
  "kernelspec": {
   "display_name": "Python 3",
   "language": "python",
   "name": "python3"
  },
  "language_info": {
   "codemirror_mode": {
    "name": "ipython",
    "version": 3
   },
   "file_extension": ".py",
   "mimetype": "text/x-python",
   "name": "python",
   "nbconvert_exporter": "python",
   "pygments_lexer": "ipython3",
   "version": "3.8.8"
  }
 },
 "nbformat": 4,
 "nbformat_minor": 5
}
