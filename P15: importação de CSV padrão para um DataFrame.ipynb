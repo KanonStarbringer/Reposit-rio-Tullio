{
 "cells": [
  {
   "cell_type": "code",
   "execution_count": 1,
   "id": "416a386e",
   "metadata": {},
   "outputs": [],
   "source": [
    "#P15: importação de CSV padrão para um DataFrame\n",
    "import pandas as pd"
   ]
  },
  {
   "cell_type": "code",
   "execution_count": 2,
   "id": "3161a6f2",
   "metadata": {},
   "outputs": [],
   "source": [
    "paises = pd.read_csv(\"/Users/TullioPires/Documents/paises.csv\", index_col=\"sigla\")"
   ]
  },
  {
   "cell_type": "code",
   "execution_count": 3,
   "id": "6daf4227",
   "metadata": {},
   "outputs": [
    {
     "name": "stdout",
     "output_type": "stream",
     "text": [
      "              nome continente  extensao  corVerde\n",
      "sigla                                            \n",
      "AR       Argentina    América      2780         0\n",
      "BR          Brasil    América      8511         1\n",
      "FR          França     Europa       644         0\n",
      "IT          Itália     Europa       301         1\n",
      "UK     Reino Unido     Europa       244         0\n"
     ]
    }
   ],
   "source": [
    "print(paises)"
   ]
  },
  {
   "cell_type": "code",
   "execution_count": null,
   "id": "7d0b901d",
   "metadata": {},
   "outputs": [],
   "source": []
  }
 ],
 "metadata": {
  "kernelspec": {
   "display_name": "Python 3",
   "language": "python",
   "name": "python3"
  },
  "language_info": {
   "codemirror_mode": {
    "name": "ipython",
    "version": 3
   },
   "file_extension": ".py",
   "mimetype": "text/x-python",
   "name": "python",
   "nbconvert_exporter": "python",
   "pygments_lexer": "ipython3",
   "version": "3.8.8"
  }
 },
 "nbformat": 4,
 "nbformat_minor": 5
}
