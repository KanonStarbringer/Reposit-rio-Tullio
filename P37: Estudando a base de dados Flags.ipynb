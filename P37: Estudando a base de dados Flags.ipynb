{
 "cells": [
  {
   "cell_type": "code",
   "execution_count": 1,
   "id": "7ed48b26",
   "metadata": {},
   "outputs": [],
   "source": [
    "#P37: Estudando a base de dados Flags\n",
    "# II. Cores e suas frequências nas bandeiras\n",
    "import pandas as pd"
   ]
  },
  {
   "cell_type": "code",
   "execution_count": 2,
   "id": "10affc96",
   "metadata": {},
   "outputs": [],
   "source": [
    "#1: Importa a base de dados\n",
    "flags = pd.read_csv('/Users/TullioPires/flags.csv')"
   ]
  },
  {
   "cell_type": "code",
   "execution_count": 3,
   "id": "49482c8d",
   "metadata": {},
   "outputs": [
    {
     "name": "stdout",
     "output_type": "stream",
     "text": [
      "   red  green  blue  gold  white  black  orange\n",
      "1  153     91    99    91    146     52      26\n",
      "0   41    103    95   103     48    142     168\n"
     ]
    }
   ],
   "source": [
    "#2: Gera a tabela de frequências\n",
    "df_cores = pd.DataFrame()\n",
    "\n",
    "for c in flags.columns:\n",
    "    if c in ['red', 'green', 'blue', 'gold', 'white', 'black', 'orange']:\n",
    "        df_cores[c] = flags[c].value_counts()\n",
    "        \n",
    "print(df_cores)"
   ]
  },
  {
   "cell_type": "code",
   "execution_count": null,
   "id": "a781ecae",
   "metadata": {},
   "outputs": [],
   "source": []
  }
 ],
 "metadata": {
  "kernelspec": {
   "display_name": "Python 3",
   "language": "python",
   "name": "python3"
  },
  "language_info": {
   "codemirror_mode": {
    "name": "ipython",
    "version": 3
   },
   "file_extension": ".py",
   "mimetype": "text/x-python",
   "name": "python",
   "nbconvert_exporter": "python",
   "pygments_lexer": "ipython3",
   "version": "3.8.8"
  }
 },
 "nbformat": 4,
 "nbformat_minor": 5
}
