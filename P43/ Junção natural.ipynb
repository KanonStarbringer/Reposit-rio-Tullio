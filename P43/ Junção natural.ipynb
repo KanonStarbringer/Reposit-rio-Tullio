{
 "cells": [
  {
   "cell_type": "code",
   "execution_count": 1,
   "id": "fd6bc46a",
   "metadata": {},
   "outputs": [],
   "source": [
    "#P43: Junção natural\n",
    "import pandas as pd"
   ]
  },
  {
   "cell_type": "code",
   "execution_count": 5,
   "id": "5ec31b04",
   "metadata": {},
   "outputs": [],
   "source": [
    "#1 Cria os DataFrames R e S\n",
    "R = pd.DataFrame({'a': [1, 7],\n",
    "                  'b': [2, 4]})\n",
    "\n",
    "S = pd.DataFrame({'b': [2, 4, 9],\n",
    "                  'c': [3, 6, 1],\n",
    "                  'd': [5, 9, 5]})"
   ]
  },
  {
   "cell_type": "code",
   "execution_count": 6,
   "id": "408bd7b4",
   "metadata": {},
   "outputs": [
    {
     "name": "stdout",
     "output_type": "stream",
     "text": [
      "----------------------\n",
      "R:\n",
      "   a  b\n",
      "0  1  2\n",
      "1  7  4\n",
      "----------------------\n",
      "S:\n",
      "   b  c  d\n",
      "0  2  3  5\n",
      "1  4  6  9\n",
      "2  9  1  5\n",
      "----------------------\n",
      "juncao natural entre R e S:\n",
      "   a  b  c  d\n",
      "0  1  2  3  5\n",
      "1  7  4  6  9\n"
     ]
    }
   ],
   "source": [
    "#2 Efetua a operação de junção\n",
    "juncao_natural = pd.merge(R, S)\n",
    "\n",
    "print('----------------------')\n",
    "print('R:')\n",
    "print(R)\n",
    "print('----------------------')\n",
    "print('S:')\n",
    "print(S)\n",
    "print('----------------------')\n",
    "print('juncao natural entre R e S:')\n",
    "print(juncao_natural)"
   ]
  },
  {
   "cell_type": "code",
   "execution_count": null,
   "id": "79a1111f",
   "metadata": {},
   "outputs": [],
   "source": []
  }
 ],
 "metadata": {
  "kernelspec": {
   "display_name": "Python 3",
   "language": "python",
   "name": "python3"
  },
  "language_info": {
   "codemirror_mode": {
    "name": "ipython",
    "version": 3
   },
   "file_extension": ".py",
   "mimetype": "text/x-python",
   "name": "python",
   "nbconvert_exporter": "python",
   "pygments_lexer": "ipython3",
   "version": "3.8.8"
  }
 },
 "nbformat": 4,
 "nbformat_minor": 5
}
