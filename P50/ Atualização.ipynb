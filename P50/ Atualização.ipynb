{
 "cells": [
  {
   "cell_type": "code",
   "execution_count": 1,
   "id": "9026776c",
   "metadata": {},
   "outputs": [],
   "source": [
    "#P50: Atualização\n",
    "import pandas as pd"
   ]
  },
  {
   "cell_type": "code",
   "execution_count": 3,
   "id": "daeb2810",
   "metadata": {},
   "outputs": [],
   "source": [
    "#1 Importa as bases de dados\n",
    "flags = pd.read_csv('/Users/TullioPires/flags.csv')"
   ]
  },
  {
   "cell_type": "code",
   "execution_count": 9,
   "id": "ae67e494",
   "metadata": {},
   "outputs": [],
   "source": [
    "#2 Cria um DataFrame com os dados do novo país\n",
    "df_novo = pd.DataFrame({'name': 'East Timor',\n",
    "                       'landmass': 5,\n",
    "                       'area': 15,\n",
    "                       'language': 10},\n",
    "                      index=[0])"
   ]
  },
  {
   "cell_type": "code",
   "execution_count": 10,
   "id": "e5d6a6ba",
   "metadata": {},
   "outputs": [],
   "source": [
    "#3 Insere o novo país em flags\n",
    "flags = pd.concat([flags, df_novo], ignore_index=True, sort=False)"
   ]
  },
  {
   "cell_type": "code",
   "execution_count": 11,
   "id": "30394ce1",
   "metadata": {},
   "outputs": [],
   "source": [
    "#4 Atualiza o valor do atributi \"religion\"\n",
    "flags.loc[flags['name']== 'East Timor', 'religion'] = 0"
   ]
  },
  {
   "cell_type": "code",
   "execution_count": 12,
   "id": "ccd1140f",
   "metadata": {},
   "outputs": [
    {
     "name": "stdout",
     "output_type": "stream",
     "text": [
      "               name  landmass  area  language  religion\n",
      "0       Afghanistan       5.0   648        10       2.0\n",
      "1           Albania       3.0    29         6       6.0\n",
      "2           Algeria       4.0  2388         8       2.0\n",
      "3    American-Samoa       6.0     0         1       1.0\n",
      "4           Andorra       3.0     0         6       0.0\n",
      "..              ...       ...   ...       ...       ...\n",
      "191           Zaire       4.0   905        10       5.0\n",
      "192          Zambia       4.0   753        10       5.0\n",
      "193        Zimbabwe       4.0   391        10       5.0\n",
      "194      East Timor       NaN    15        10       0.0\n",
      "195      East Timor       5.0    15        10       0.0\n",
      "\n",
      "[196 rows x 5 columns]\n"
     ]
    }
   ],
   "source": [
    "#5 Imprime o DataFrame alterado\n",
    "print(flags[['name',\n",
    "            'landmass',\n",
    "            'area',\n",
    "            'language',\n",
    "            'religion']])"
   ]
  },
  {
   "cell_type": "code",
   "execution_count": null,
   "id": "71178a2c",
   "metadata": {},
   "outputs": [],
   "source": []
  }
 ],
 "metadata": {
  "kernelspec": {
   "display_name": "Python 3",
   "language": "python",
   "name": "python3"
  },
  "language_info": {
   "codemirror_mode": {
    "name": "ipython",
    "version": 3
   },
   "file_extension": ".py",
   "mimetype": "text/x-python",
   "name": "python",
   "nbconvert_exporter": "python",
   "pygments_lexer": "ipython3",
   "version": "3.8.8"
  }
 },
 "nbformat": 4,
 "nbformat_minor": 5
}
