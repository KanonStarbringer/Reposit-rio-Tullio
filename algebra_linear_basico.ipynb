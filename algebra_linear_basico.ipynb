{
 "cells": [
  {
   "cell_type": "code",
   "execution_count": 1,
   "id": "30f37853-f772-40c6-a365-1a19e11f804f",
   "metadata": {},
   "outputs": [],
   "source": [
    "T = 37 #temperatura em graus celsius"
   ]
  },
  {
   "cell_type": "code",
   "execution_count": 2,
   "id": "682d59b4-2d08-45e6-a216-1227baf9baba",
   "metadata": {},
   "outputs": [
    {
     "name": "stdout",
     "output_type": "stream",
     "text": [
      "37\n"
     ]
    }
   ],
   "source": [
    "print(T)"
   ]
  },
  {
   "cell_type": "code",
   "execution_count": 3,
   "id": "81fe1a9b-1260-48a4-bb76-0be2090388de",
   "metadata": {},
   "outputs": [
    {
     "data": {
      "text/plain": [
       "37"
      ]
     },
     "execution_count": 3,
     "metadata": {},
     "output_type": "execute_result"
    }
   ],
   "source": [
    "T"
   ]
  },
  {
   "cell_type": "code",
   "execution_count": 4,
   "id": "db5c58cb-4dc5-4a1f-bee1-9b0fbf5cb1d3",
   "metadata": {},
   "outputs": [
    {
     "data": {
      "text/plain": [
       "int"
      ]
     },
     "execution_count": 4,
     "metadata": {},
     "output_type": "execute_result"
    }
   ],
   "source": [
    "type(T)"
   ]
  },
  {
   "cell_type": "code",
   "execution_count": 5,
   "id": "9f061497-8e50-4bdb-9b5e-08d31322c690",
   "metadata": {},
   "outputs": [],
   "source": [
    "V = 180"
   ]
  },
  {
   "cell_type": "code",
   "execution_count": 6,
   "id": "428d7c5e-8364-451d-9ec6-68db6ee20e74",
   "metadata": {},
   "outputs": [
    {
     "data": {
      "text/plain": [
       "180"
      ]
     },
     "execution_count": 6,
     "metadata": {},
     "output_type": "execute_result"
    }
   ],
   "source": [
    "V"
   ]
  },
  {
   "cell_type": "code",
   "execution_count": 7,
   "id": "37daa9a3-a0d8-49d6-8898-e39aab12d7a5",
   "metadata": {},
   "outputs": [
    {
     "name": "stdout",
     "output_type": "stream",
     "text": [
      "180\n"
     ]
    }
   ],
   "source": [
    "print(V)"
   ]
  },
  {
   "cell_type": "code",
   "execution_count": 8,
   "id": "a75f0a14-07d2-4020-bad9-ea1f8ae50022",
   "metadata": {},
   "outputs": [
    {
     "data": {
      "text/plain": [
       "int"
      ]
     },
     "execution_count": 8,
     "metadata": {},
     "output_type": "execute_result"
    }
   ],
   "source": [
    "type(V)"
   ]
  },
  {
   "cell_type": "code",
   "execution_count": 9,
   "id": "98353eac-cd9b-44a9-b26d-3d76162b6be9",
   "metadata": {},
   "outputs": [],
   "source": [
    "pi = 3.14"
   ]
  },
  {
   "cell_type": "code",
   "execution_count": 10,
   "id": "ac19b6e0-e08b-4094-9e99-75090b0d1393",
   "metadata": {},
   "outputs": [
    {
     "data": {
      "text/plain": [
       "float"
      ]
     },
     "execution_count": 10,
     "metadata": {},
     "output_type": "execute_result"
    }
   ],
   "source": [
    "type(pi)"
   ]
  },
  {
   "cell_type": "code",
   "execution_count": 11,
   "id": "7aaf90ef-167b-479a-b6b3-30093c95700b",
   "metadata": {},
   "outputs": [],
   "source": [
    "import numpy as np"
   ]
  },
  {
   "cell_type": "code",
   "execution_count": 12,
   "id": "45e6c013-da0a-406f-8032-e5493d638763",
   "metadata": {},
   "outputs": [],
   "source": [
    "u = [1, 2]\n",
    "v = [2, 1]"
   ]
  },
  {
   "cell_type": "code",
   "execution_count": 13,
   "id": "0e95dc92-c356-4adf-b4ee-749f10051395",
   "metadata": {},
   "outputs": [
    {
     "data": {
      "text/plain": [
       "[1, 2, 2, 1]"
      ]
     },
     "execution_count": 13,
     "metadata": {},
     "output_type": "execute_result"
    }
   ],
   "source": [
    "u + v"
   ]
  },
  {
   "cell_type": "code",
   "execution_count": 14,
   "id": "145c7cfb-0a14-4565-b0ad-67e96090e2ca",
   "metadata": {},
   "outputs": [],
   "source": [
    "u = np.array(u)"
   ]
  },
  {
   "cell_type": "code",
   "execution_count": 15,
   "id": "0fc4e833-439c-45a3-8847-ac088d8389b1",
   "metadata": {},
   "outputs": [],
   "source": [
    "v = np.array(v)"
   ]
  },
  {
   "cell_type": "code",
   "execution_count": 16,
   "id": "9cea395c-700c-4420-916d-8af4565910de",
   "metadata": {},
   "outputs": [
    {
     "data": {
      "text/plain": [
       "array([3, 3])"
      ]
     },
     "execution_count": 16,
     "metadata": {},
     "output_type": "execute_result"
    }
   ],
   "source": [
    "#soma vetorial\n",
    "u + v"
   ]
  },
  {
   "cell_type": "code",
   "execution_count": 17,
   "id": "19031136-de2e-4708-a298-9cae504f8718",
   "metadata": {},
   "outputs": [
    {
     "data": {
      "text/plain": [
       "array([-1,  1])"
      ]
     },
     "execution_count": 17,
     "metadata": {},
     "output_type": "execute_result"
    }
   ],
   "source": [
    "#subtração de vetores\n",
    "u - v"
   ]
  },
  {
   "cell_type": "code",
   "execution_count": 18,
   "id": "371147a7-225a-4538-acb9-15b282dd054e",
   "metadata": {},
   "outputs": [],
   "source": [
    "#subtração de vetores II"
   ]
  },
  {
   "cell_type": "code",
   "execution_count": 19,
   "id": "57f05f88-d125-40f5-a6dd-cfce2bdd4989",
   "metadata": {},
   "outputs": [
    {
     "data": {
      "text/plain": [
       "array([ 1, -1])"
      ]
     },
     "execution_count": 19,
     "metadata": {},
     "output_type": "execute_result"
    }
   ],
   "source": [
    "v - u"
   ]
  },
  {
   "cell_type": "code",
   "execution_count": 20,
   "id": "fcc4ea6d-7e12-466b-bfa4-8cc2f8c18678",
   "metadata": {},
   "outputs": [],
   "source": [
    "#produto escalar e modulo\n",
    "a = np.array([2, 3])\n",
    "b = np.array([4, -1])"
   ]
  },
  {
   "cell_type": "code",
   "execution_count": 21,
   "id": "39493600-c872-45d8-90a1-ccc6a871b374",
   "metadata": {},
   "outputs": [
    {
     "data": {
      "text/plain": [
       "array([2, 2])"
      ]
     },
     "execution_count": 21,
     "metadata": {},
     "output_type": "execute_result"
    }
   ],
   "source": [
    "u*v"
   ]
  },
  {
   "cell_type": "code",
   "execution_count": 22,
   "id": "1061f0df-d866-406f-b02f-db3fbfe4c39b",
   "metadata": {},
   "outputs": [
    {
     "data": {
      "text/plain": [
       "array([ 8, -3])"
      ]
     },
     "execution_count": 22,
     "metadata": {},
     "output_type": "execute_result"
    }
   ],
   "source": [
    "a*b"
   ]
  },
  {
   "cell_type": "code",
   "execution_count": 23,
   "id": "67d9864f-5846-4dbd-a1b8-f1e715346d7a",
   "metadata": {},
   "outputs": [],
   "source": [
    "#acima é o produto elemento a elemento dos vetores"
   ]
  },
  {
   "cell_type": "code",
   "execution_count": 24,
   "id": "d60a9cac-0178-43dd-871b-731468c814c3",
   "metadata": {},
   "outputs": [
    {
     "data": {
      "text/plain": [
       "5"
      ]
     },
     "execution_count": 24,
     "metadata": {},
     "output_type": "execute_result"
    }
   ],
   "source": [
    "#produto interno ou produto escalar\n",
    "a.dot(b)"
   ]
  },
  {
   "cell_type": "code",
   "execution_count": 25,
   "id": "9fdbb574-742c-4539-b19c-a91ba66ba16e",
   "metadata": {},
   "outputs": [],
   "source": [
    "#calculando o modulo\n",
    "mod_a = np.linalg.norm(a)"
   ]
  },
  {
   "cell_type": "code",
   "execution_count": 26,
   "id": "a203afcc-ea44-403a-8c38-b6973f858e30",
   "metadata": {},
   "outputs": [
    {
     "data": {
      "text/plain": [
       "3.605551275463989"
      ]
     },
     "execution_count": 26,
     "metadata": {},
     "output_type": "execute_result"
    }
   ],
   "source": [
    "mod_a"
   ]
  },
  {
   "cell_type": "code",
   "execution_count": 27,
   "id": "03f50214-c996-42e7-b225-79744d7bff54",
   "metadata": {},
   "outputs": [
    {
     "ename": "NameError",
     "evalue": "name 'mod_b' is not defined",
     "output_type": "error",
     "traceback": [
      "\u001b[0;31m---------------------------------------------------------------------------\u001b[0m",
      "\u001b[0;31mNameError\u001b[0m                                 Traceback (most recent call last)",
      "\u001b[0;32m<ipython-input-27-09adc40123f0>\u001b[0m in \u001b[0;36m<module>\u001b[0;34m\u001b[0m\n\u001b[1;32m      1\u001b[0m \u001b[0mmob_b\u001b[0m \u001b[0;34m=\u001b[0m \u001b[0mnp\u001b[0m\u001b[0;34m.\u001b[0m\u001b[0mlinalg\u001b[0m\u001b[0;34m.\u001b[0m\u001b[0mnorm\u001b[0m\u001b[0;34m(\u001b[0m\u001b[0mb\u001b[0m\u001b[0;34m)\u001b[0m\u001b[0;34m\u001b[0m\u001b[0;34m\u001b[0m\u001b[0m\n\u001b[0;32m----> 2\u001b[0;31m \u001b[0mprint\u001b[0m\u001b[0;34m(\u001b[0m\u001b[0mmod_b\u001b[0m\u001b[0;34m)\u001b[0m\u001b[0;34m\u001b[0m\u001b[0;34m\u001b[0m\u001b[0m\n\u001b[0m",
      "\u001b[0;31mNameError\u001b[0m: name 'mod_b' is not defined"
     ]
    }
   ],
   "source": [
    "mob_b = np.linalg.norm(b)\n",
    "print(mod_b)"
   ]
  },
  {
   "cell_type": "code",
   "execution_count": 28,
   "id": "05ef8701-f7dc-44de-b01f-e0127e4565e7",
   "metadata": {},
   "outputs": [
    {
     "name": "stdout",
     "output_type": "stream",
     "text": [
      "4.123105625617661\n"
     ]
    }
   ],
   "source": [
    "mod_b = np.linalg.norm(b)\n",
    "print(mod_b)"
   ]
  },
  {
   "cell_type": "code",
   "execution_count": null,
   "id": "5d00e9ae-10d0-4f15-9f6d-2a6c28cfe116",
   "metadata": {},
   "outputs": [],
   "source": []
  }
 ],
 "metadata": {
  "kernelspec": {
   "display_name": "Python 3",
   "language": "python",
   "name": "python3"
  },
  "language_info": {
   "codemirror_mode": {
    "name": "ipython",
    "version": 3
   },
   "file_extension": ".py",
   "mimetype": "text/x-python",
   "name": "python",
   "nbconvert_exporter": "python",
   "pygments_lexer": "ipython3",
   "version": "3.8.8"
  }
 },
 "nbformat": 4,
 "nbformat_minor": 5
}
