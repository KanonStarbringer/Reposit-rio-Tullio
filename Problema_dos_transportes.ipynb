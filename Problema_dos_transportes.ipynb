{
 "cells": [
  {
   "cell_type": "code",
   "execution_count": 1,
   "id": "8af99f1c-b97b-4cef-baba-d954041abe50",
   "metadata": {},
   "outputs": [],
   "source": [
    "#iremos resolver o PL apresentado no slide, usando o Python\n",
    "\n",
    "#iremos usar o ortools, neste exemplo\n",
    "\n",
    "import ortools.linear_solver.pywraplp as otlp"
   ]
  },
  {
   "cell_type": "code",
   "execution_count": 2,
   "id": "fa67b804-c6e3-42b2-9758-bd87ca4448a2",
   "metadata": {},
   "outputs": [],
   "source": [
    "#usaremos o solver do google mesmo, GLOP LINEAR PROGRAMMING\n",
    "solver = otlp.Solver('problema MBA', otlp.Solver.GLOP_LINEAR_PROGRAMMING)"
   ]
  },
  {
   "cell_type": "code",
   "execution_count": 3,
   "id": "f82ed3f0-1be5-4886-9378-da8575616965",
   "metadata": {},
   "outputs": [],
   "source": [
    "#Agora, declaramos as variáveis de decisão x1 e x2\n",
    "X11 = solver.NumVar(0, 10000, 'X11')\n",
    "X12 = solver.NumVar(0, 10000, 'X12')\n",
    "X13 = solver.NumVar(0, 10000, 'X13')\n",
    "X21 = solver.NumVar(0, 10000, 'X21')\n",
    "X22 = solver.NumVar(0, 10000, 'X22')\n",
    "X23 = solver.NumVar(0, 10000, 'X23')"
   ]
  },
  {
   "cell_type": "code",
   "execution_count": 5,
   "id": "a22eb0e8-93a7-43ba-b181-e0075d3b9f90",
   "metadata": {},
   "outputs": [
    {
     "data": {
      "text/plain": [
       "<ortools.linear_solver.pywraplp.Constraint; proxy of <Swig Object of type 'operations_research::MPConstraint *' at 0x7fe860be4e10> >"
      ]
     },
     "execution_count": 5,
     "metadata": {},
     "output_type": "execute_result"
    }
   ],
   "source": [
    "#declaramos as restrições\n",
    "solver.Add(X11 + X12 + X13 <= 800)\n",
    "solver.Add(X21 + X22 + X23 <= 1000)\n",
    "solver.Add(X11 + X21 == 500)\n",
    "solver.Add(X12 + X22 == 400)\n",
    "solver.Add(X13 + X23 == 900)"
   ]
  },
  {
   "cell_type": "code",
   "execution_count": 6,
   "id": "6547af44-3a0f-4c2a-bcee-26a527c69332",
   "metadata": {},
   "outputs": [],
   "source": [
    "#invocamos o solver para resolver o problema\n",
    "solver.Minimize(4*X11 + 2*X12 + 5*X13 + 11*X21 + 7*X22 + 4*X23)"
   ]
  },
  {
   "cell_type": "code",
   "execution_count": 7,
   "id": "2c9c8c88-e15a-4bbf-8d0b-b4720c4e1ade",
   "metadata": {},
   "outputs": [],
   "source": [
    "#agora, queremos preparar tudo para apresentar os resultados\n",
    "results = solver.Solve()"
   ]
  },
  {
   "cell_type": "code",
   "execution_count": 8,
   "id": "a15e2cb7-9ae9-4b5a-9c31-67abd782645a",
   "metadata": {},
   "outputs": [
    {
     "name": "stdout",
     "output_type": "stream",
     "text": [
      "Resultado encontrado\n",
      "Solution:\n",
      "Objective value = 6900.0\n",
      "X11= 500.0\n",
      "X12= 300.0\n",
      "X13= 0.0\n",
      "X21= 0.0\n",
      "X22= 100.0\n",
      "X23= 900.0\n"
     ]
    }
   ],
   "source": [
    "if results == otlp.Solver.OPTIMAL:\n",
    "    print('Resultado encontrado')\n",
    "    print('Solution:')\n",
    "    print('Objective value =', solver.Objective().Value())\n",
    "else:\n",
    "    print('Resultado não encontrado')\n",
    "    \n",
    "print('X11=', X11.solution_value())\n",
    "print('X12=', X12.solution_value())\n",
    "print('X13=', X13.solution_value())\n",
    "print('X21=', X21.solution_value())\n",
    "print('X22=', X22.solution_value())\n",
    "print('X23=', X23.solution_value())"
   ]
  },
  {
   "cell_type": "code",
   "execution_count": null,
   "id": "9f0664ae-000d-4a9b-8ba0-bfa268d61a1c",
   "metadata": {},
   "outputs": [],
   "source": []
  }
 ],
 "metadata": {
  "kernelspec": {
   "display_name": "Python 3",
   "language": "python",
   "name": "python3"
  },
  "language_info": {
   "codemirror_mode": {
    "name": "ipython",
    "version": 3
   },
   "file_extension": ".py",
   "mimetype": "text/x-python",
   "name": "python",
   "nbconvert_exporter": "python",
   "pygments_lexer": "ipython3",
   "version": "3.8.8"
  }
 },
 "nbformat": 4,
 "nbformat_minor": 5
}
