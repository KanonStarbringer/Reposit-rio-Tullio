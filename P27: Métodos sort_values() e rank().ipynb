{
 "cells": [
  {
   "cell_type": "code",
   "execution_count": 1,
   "id": "9b5aa95f",
   "metadata": {},
   "outputs": [],
   "source": [
    "#P27: Métodos sort_values() e rank()\n",
    "import pandas as pd"
   ]
  },
  {
   "cell_type": "code",
   "execution_count": 2,
   "id": "82dbb836",
   "metadata": {},
   "outputs": [],
   "source": [
    "#1 cria o DataFrame da prova\n",
    "dados = {\"Nadador\": [\"Simonas Billis\",\n",
    "                    \"Benjamin Proud\",\n",
    "                    \"Anthony Ervin\",\n",
    "                    \"Florent Manaudou\",\n",
    "                    \"Andriy Hovorov\",\n",
    "                    \"Nathan Adrian\",\n",
    "                    \"Bruno Fratus\",\n",
    "                    \"Brad Tandy\"],\n",
    "        \"nacionalidade\": [\"Lituânia\",\n",
    "                         \"Grã-Bretanha\",\n",
    "                         \"Estados Unidos\",\n",
    "                         \"França\",\n",
    "                         \"Ucrânia\",\n",
    "                         \"Estados Unidos\",\n",
    "                         \"Brasil\",\n",
    "                         \"África do Sul\"],\n",
    "        \"tempo\": [22.08,\n",
    "                 21.68,\n",
    "                 21.40,\n",
    "                 21.41,\n",
    "                 21.74,\n",
    "                 21.49,\n",
    "                 21.79,\n",
    "                 21.79]}\n",
    "\n",
    "raias = list(range(1,9))\n",
    "\n",
    "prova50m = pd.DataFrame(dados, index=raias)\n",
    "prova50m.index.name = 'raia'"
   ]
  },
  {
   "cell_type": "code",
   "execution_count": 6,
   "id": "0177e8ba",
   "metadata": {},
   "outputs": [
    {
     "name": "stdout",
     "output_type": "stream",
     "text": [
      "* * resultado final ordenado pelo tempo\n",
      "               Nadador   nacionalidade  tempo\n",
      "raia                                         \n",
      "3        Anthony Ervin  Estados Unidos  21.40\n",
      "4     Florent Manaudou          França  21.41\n",
      "6        Nathan Adrian  Estados Unidos  21.49\n",
      "2       Benjamin Proud    Grã-Bretanha  21.68\n",
      "5       Andriy Hovorov         Ucrânia  21.74\n",
      "7         Bruno Fratus          Brasil  21.79\n",
      "8           Brad Tandy   África do Sul  21.79\n",
      "1       Simonas Billis        Lituânia  22.08\n"
     ]
    }
   ],
   "source": [
    "#ordena pelo tempo de forma crescente\n",
    "prova50m = prova50m.sort_values(by=\"tempo\") #se quiser deixar decrescente, coloca Ascending=False\n",
    "print(\"* * resultado final ordenado pelo tempo\")\n",
    "print(prova50m)"
   ]
  },
  {
   "cell_type": "code",
   "execution_count": 4,
   "id": "6bc01329",
   "metadata": {},
   "outputs": [
    {
     "name": "stdout",
     "output_type": "stream",
     "text": [
      "\n",
      "* * posição de cada nadador (por raia):\n",
      "raia\n",
      "3    1.0\n",
      "4    2.0\n",
      "6    3.0\n",
      "2    4.0\n",
      "5    5.0\n",
      "7    6.0\n",
      "8    6.0\n",
      "1    8.0\n",
      "Name: tempo, dtype: float64\n"
     ]
    }
   ],
   "source": [
    "#gera os rankings\n",
    "resultado_por_raia = prova50m['tempo'].rank(method=\"min\")\n",
    "print(\"\\n* * posição de cada nadador (por raia):\")\n",
    "print(resultado_por_raia)"
   ]
  },
  {
   "cell_type": "code",
   "execution_count": null,
   "id": "d9f11bb8",
   "metadata": {},
   "outputs": [],
   "source": []
  }
 ],
 "metadata": {
  "kernelspec": {
   "display_name": "Python 3",
   "language": "python",
   "name": "python3"
  },
  "language_info": {
   "codemirror_mode": {
    "name": "ipython",
    "version": 3
   },
   "file_extension": ".py",
   "mimetype": "text/x-python",
   "name": "python",
   "nbconvert_exporter": "python",
   "pygments_lexer": "ipython3",
   "version": "3.8.8"
  }
 },
 "nbformat": 4,
 "nbformat_minor": 5
}
