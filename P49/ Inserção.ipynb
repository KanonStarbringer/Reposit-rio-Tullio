{
 "cells": [
  {
   "cell_type": "code",
   "execution_count": 1,
   "id": "2842883b",
   "metadata": {},
   "outputs": [],
   "source": [
    "#P49: Inserção\n",
    "import pandas as pd"
   ]
  },
  {
   "cell_type": "code",
   "execution_count": 2,
   "id": "99970124",
   "metadata": {},
   "outputs": [],
   "source": [
    "#1 Importa as bases de dados\n",
    "flags = pd.read_csv('/Users/TullioPires/flags.csv')"
   ]
  },
  {
   "cell_type": "code",
   "execution_count": 4,
   "id": "6bf023c7",
   "metadata": {},
   "outputs": [],
   "source": [
    "#2 Cria um DataFrame com os dados do novo país\n",
    "df_novo = pd.DataFrame(\n",
    "        {'name': 'East Timor',\n",
    "         'landmass': 5,\n",
    "         'area': 15,\n",
    "         'language': 10\n",
    "          \n",
    "}, index=[0])"
   ]
  },
  {
   "cell_type": "code",
   "execution_count": 5,
   "id": "04323285",
   "metadata": {},
   "outputs": [],
   "source": [
    "#3 Insere o novo país em flags\n",
    "flags = pd.concat([flags, df_novo], ignore_index=True, sort=False)"
   ]
  },
  {
   "cell_type": "code",
   "execution_count": 7,
   "id": "f363e47f",
   "metadata": {},
   "outputs": [
    {
     "name": "stdout",
     "output_type": "stream",
     "text": [
      "               name  landmass  language  religion\n",
      "0       Afghanistan         5        10       2.0\n",
      "1           Albania         3         6       6.0\n",
      "2           Algeria         4         8       2.0\n",
      "3    American-Samoa         6         1       1.0\n",
      "4           Andorra         3         6       0.0\n",
      "..              ...       ...       ...       ...\n",
      "190      Yugoslavia         3         6       6.0\n",
      "191           Zaire         4        10       5.0\n",
      "192          Zambia         4        10       5.0\n",
      "193        Zimbabwe         4        10       5.0\n",
      "194      East Timor         5        10       NaN\n",
      "\n",
      "[195 rows x 4 columns]\n"
     ]
    }
   ],
   "source": [
    "#4 Imprime o DataFrame alterado\n",
    "print(flags[['name',\n",
    "           'landmass',\n",
    "           'language',\n",
    "           'religion']])"
   ]
  },
  {
   "cell_type": "code",
   "execution_count": null,
   "id": "df9dc73b",
   "metadata": {},
   "outputs": [],
   "source": []
  }
 ],
 "metadata": {
  "kernelspec": {
   "display_name": "Python 3",
   "language": "python",
   "name": "python3"
  },
  "language_info": {
   "codemirror_mode": {
    "name": "ipython",
    "version": 3
   },
   "file_extension": ".py",
   "mimetype": "text/x-python",
   "name": "python",
   "nbconvert_exporter": "python",
   "pygments_lexer": "ipython3",
   "version": "3.8.8"
  }
 },
 "nbformat": 4,
 "nbformat_minor": 5
}
