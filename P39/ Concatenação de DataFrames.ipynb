{
 "cells": [
  {
   "cell_type": "code",
   "execution_count": 1,
   "id": "f0e6ae90",
   "metadata": {},
   "outputs": [],
   "source": [
    "#P39: Concatenação de DataFrames\n",
    "import pandas as pd"
   ]
  },
  {
   "cell_type": "code",
   "execution_count": 4,
   "id": "d1a3a435",
   "metadata": {},
   "outputs": [],
   "source": [
    "#1 Cria os DataFrames com as vendas de cada loja\n",
    "lojaA = pd.DataFrame({\"loja\": [\"A\", \"A\", \"A\"],\n",
    "                     \"dia\": [\"sex\", \"sáb\", \"dom\"],\n",
    "                            \"valor\": [7500, 9500, 8200]})\n",
    "\n",
    "lojaB = pd.DataFrame({\"loja\": [\"B\", \"B\", \"B\"],\n",
    "                     \"dia\": [\"sex\", \"sáb\", \"dom\"],\n",
    "                     \"valor\": [5100, 8250, 9900]})\n",
    "\n",
    "lojaC = pd.DataFrame({\"loja\": [\"C\", \"C\"],\n",
    "                     \"dia\": [\"sáb\", \"dom\"],\n",
    "                     \"valor\": [7500, 11800]})"
   ]
  },
  {
   "cell_type": "code",
   "execution_count": 5,
   "id": "3fb9f765",
   "metadata": {},
   "outputs": [
    {
     "name": "stdout",
     "output_type": "stream",
     "text": [
      "  loja  dia  valor\n",
      "0    A  sex   7500\n",
      "1    A  sáb   9500\n",
      "2    A  dom   8200\n",
      "3    B  sex   5100\n",
      "4    B  sáb   8250\n",
      "5    B  dom   9900\n",
      "6    C  sáb   7500\n",
      "7    C  dom  11800\n"
     ]
    }
   ],
   "source": [
    "#2 Concatena tudo em um único DataFrame\n",
    "lojasABC = pd.concat([lojaA, lojaB, lojaC], ignore_index=True)\n",
    "\n",
    "print(lojasABC)"
   ]
  },
  {
   "cell_type": "code",
   "execution_count": null,
   "id": "4492bd0d",
   "metadata": {},
   "outputs": [],
   "source": []
  }
 ],
 "metadata": {
  "kernelspec": {
   "display_name": "Python 3",
   "language": "python",
   "name": "python3"
  },
  "language_info": {
   "codemirror_mode": {
    "name": "ipython",
    "version": 3
   },
   "file_extension": ".py",
   "mimetype": "text/x-python",
   "name": "python",
   "nbconvert_exporter": "python",
   "pygments_lexer": "ipython3",
   "version": "3.8.8"
  }
 },
 "nbformat": 4,
 "nbformat_minor": 5
}
