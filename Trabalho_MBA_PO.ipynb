{
 "cells": [
  {
   "cell_type": "code",
   "execution_count": 59,
   "id": "a373f067-4081-4b09-8466-146135f0751b",
   "metadata": {},
   "outputs": [],
   "source": [
    "#iremos resolver o PL apresentado no slide, usando o Python\n",
    "\n",
    "#iremos usar o ortools, neste exemplo\n",
    "\n",
    "import ortools.linear_solver.pywraplp as otlp"
   ]
  },
  {
   "cell_type": "code",
   "execution_count": 60,
   "id": "f9c43b94-6d8e-486d-a946-2a99f68eb7e6",
   "metadata": {},
   "outputs": [],
   "source": [
    "#usaremos o solver do google mesmo, GLOP LINEAR PROGRAMMING\n",
    "solver = otlp.Solver('problema MBA', otlp.Solver.GLOP_LINEAR_PROGRAMMING)"
   ]
  },
  {
   "cell_type": "code",
   "execution_count": 61,
   "id": "ef94efb6-539b-4c98-9227-89304cc2b077",
   "metadata": {},
   "outputs": [],
   "source": [
    "#Agora, declaramos as variáveis de decisão x1 e x2\n",
    "x1 = solver.NumVar(0, 100, 'x1')\n",
    "x2 = solver.NumVar(0, 100, 'x2')"
   ]
  },
  {
   "cell_type": "code",
   "execution_count": 62,
   "id": "121094b7-7461-4d1e-8dc6-998c55b6105f",
   "metadata": {},
   "outputs": [
    {
     "data": {
      "text/plain": [
       "<ortools.linear_solver.pywraplp.Constraint; proxy of <Swig Object of type 'operations_research::MPConstraint *' at 0x7fbf700dfb70> >"
      ]
     },
     "execution_count": 62,
     "metadata": {},
     "output_type": "execute_result"
    }
   ],
   "source": [
    "#declaramos as restrições\n",
    "solver.Add(4*x1 + 2*x2 <= 80)\n",
    "solver.Add(-3*x1 + 1*x2 <= 4)\n",
    "solver.Add(-1*x1 + 2*x2 <= 20)\n",
    "solver.Add(4*x1 - 1*x2 <=40)"
   ]
  },
  {
   "cell_type": "code",
   "execution_count": 63,
   "id": "d4b136ab-a075-4e81-8ac8-22899ef014fc",
   "metadata": {},
   "outputs": [],
   "source": [
    "#invocamos o solver para resolver o problema\n",
    "solver.Maximize(5*x1 +8*x2)"
   ]
  },
  {
   "cell_type": "code",
   "execution_count": 64,
   "id": "5be3cafd-8923-4086-826b-81bfe1fb507d",
   "metadata": {},
   "outputs": [],
   "source": [
    "#agora, queremos preparar tudo para apresentar os resultados\n",
    "results = solver.Solve()"
   ]
  },
  {
   "cell_type": "code",
   "execution_count": 65,
   "id": "502aa819-86f7-4ec2-a906-0d4127803f1f",
   "metadata": {},
   "outputs": [
    {
     "name": "stdout",
     "output_type": "stream",
     "text": [
      "Resultado encontrado\n",
      "Solution:\n",
      "Objective value = 187.99999999999983\n",
      "x1= 11.999999999999986\n",
      "x2 15.999999999999986\n"
     ]
    }
   ],
   "source": [
    "#vamos apresentar os resultados, agora\n",
    "if results == otlp.Solver.OPTIMAL:\n",
    "    print('Resultado encontrado')\n",
    "    print('Solution:')\n",
    "    print('Objective value =', solver.Objective().Value())\n",
    "else:\n",
    "    print('Resultado não encontrado')\n",
    "    \n",
    "print('x1=', x1.solution_value())\n",
    "print('x2', x2.solution_value())"
   ]
  },
  {
   "cell_type": "code",
   "execution_count": null,
   "id": "e76f8c29-3ee3-477a-ba77-978d2030d213",
   "metadata": {},
   "outputs": [],
   "source": []
  }
 ],
 "metadata": {
  "kernelspec": {
   "display_name": "Python 3",
   "language": "python",
   "name": "python3"
  },
  "language_info": {
   "codemirror_mode": {
    "name": "ipython",
    "version": 3
   },
   "file_extension": ".py",
   "mimetype": "text/x-python",
   "name": "python",
   "nbconvert_exporter": "python",
   "pygments_lexer": "ipython3",
   "version": "3.8.8"
  }
 },
 "nbformat": 4,
 "nbformat_minor": 5
}
