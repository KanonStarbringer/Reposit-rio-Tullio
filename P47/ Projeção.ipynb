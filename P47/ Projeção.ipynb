{
 "cells": [
  {
   "cell_type": "code",
   "execution_count": 1,
   "id": "5d785de1",
   "metadata": {},
   "outputs": [],
   "source": [
    "#P47: Projeção\n",
    "import pandas as pd"
   ]
  },
  {
   "cell_type": "code",
   "execution_count": 2,
   "id": "6efc2c94",
   "metadata": {},
   "outputs": [],
   "source": [
    "#1 Importa as bases de dados\n",
    "flags = pd.read_csv('/Users/TullioPires/flags.csv')"
   ]
  },
  {
   "cell_type": "code",
   "execution_count": 4,
   "id": "41312b71",
   "metadata": {},
   "outputs": [],
   "source": [
    "#2 Seleciona apenas as linhas dos países de oceania com área acima de 200k km2\n",
    "df = flags[(flags['landmass']==6) & (flags['area']>200)]"
   ]
  },
  {
   "cell_type": "code",
   "execution_count": 5,
   "id": "2b8c99f0",
   "metadata": {},
   "outputs": [],
   "source": [
    "#3 Projeta apenas as colunas 'name', 'colours', 'language', 'landmass' e 'area'\n",
    "df = df[['name', 'colours', 'language', 'landmass', 'area']]"
   ]
  },
  {
   "cell_type": "code",
   "execution_count": 6,
   "id": "df71b146",
   "metadata": {},
   "outputs": [
    {
     "name": "stdout",
     "output_type": "stream",
     "text": [
      "                 name  colours  language  landmass  area\n",
      "10          Australia        3         1         6  7690\n",
      "82          Indonesia        2        10         6  1904\n",
      "123       New-Zealand        3         1         6   268\n",
      "134  Papua-New-Guinea        4         1         6   463\n",
      "137       Philippines        4        10         6   300\n"
     ]
    }
   ],
   "source": [
    "#4 Imprime o resultado\n",
    "print(df)"
   ]
  },
  {
   "cell_type": "code",
   "execution_count": null,
   "id": "3ab226b8",
   "metadata": {},
   "outputs": [],
   "source": []
  }
 ],
 "metadata": {
  "kernelspec": {
   "display_name": "Python 3",
   "language": "python",
   "name": "python3"
  },
  "language_info": {
   "codemirror_mode": {
    "name": "ipython",
    "version": 3
   },
   "file_extension": ".py",
   "mimetype": "text/x-python",
   "name": "python",
   "nbconvert_exporter": "python",
   "pygments_lexer": "ipython3",
   "version": "3.8.8"
  }
 },
 "nbformat": 4,
 "nbformat_minor": 5
}
