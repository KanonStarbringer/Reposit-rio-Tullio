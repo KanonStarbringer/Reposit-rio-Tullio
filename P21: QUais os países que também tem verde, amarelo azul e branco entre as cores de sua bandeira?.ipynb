{
 "cells": [
  {
   "cell_type": "code",
   "execution_count": 1,
   "id": "67212ed1",
   "metadata": {},
   "outputs": [],
   "source": [
    "#P21: QUais os países que também tem verde, amarelo azul e branco entre as cores de sua bandeira?\n",
    "import pandas as pd"
   ]
  },
  {
   "cell_type": "code",
   "execution_count": 2,
   "id": "d67ee287",
   "metadata": {},
   "outputs": [],
   "source": [
    "#1: importa a base de dados\n",
    "flags = pd.read_csv(\"/Users/TullioPires/flags.csv\")"
   ]
  },
  {
   "cell_type": "code",
   "execution_count": 5,
   "id": "384ef023",
   "metadata": {},
   "outputs": [
    {
     "name": "stdout",
     "output_type": "stream",
     "text": [
      "head():\n",
      "             name  landmass  zone  area  population  language  religion  bars  \\\n",
      "0     Afghanistan         5     1   648          16        10         2     0   \n",
      "1         Albania         3     1    29           3         6         6     0   \n",
      "2         Algeria         4     1  2388          20         8         2     2   \n",
      "3  American-Samoa         6     3     0           0         1         1     0   \n",
      "4         Andorra         3     1     0           0         6         0     3   \n",
      "\n",
      "   stripes  colours  ...  saltires  quarters  sunstars  crescent  triangle  \\\n",
      "0        3        5  ...         0         0         1         0         0   \n",
      "1        0        3  ...         0         0         1         0         0   \n",
      "2        0        3  ...         0         0         1         1         0   \n",
      "3        0        5  ...         0         0         0         0         1   \n",
      "4        0        3  ...         0         0         0         0         0   \n",
      "\n",
      "   icon  animate text  topleft  botright  \n",
      "0     1        0    0    black     green  \n",
      "1     0        1    0      red       red  \n",
      "2     0        0    0    green     white  \n",
      "3     1        1    0     blue       red  \n",
      "4     0        0    0     blue       red  \n",
      "\n",
      "[5 rows x 30 columns]\n",
      "----------------------------\n"
     ]
    }
   ],
   "source": [
    "#Alguns métodos para obter informações básicas\n",
    "#--------------------------------------------\n",
    "#Imprime as 5 primeiras linhas\n",
    "print('head():'); print(flags.head())\n",
    "print('----------------------------')"
   ]
  },
  {
   "cell_type": "code",
   "execution_count": 6,
   "id": "128a476c",
   "metadata": {},
   "outputs": [
    {
     "name": "stdout",
     "output_type": "stream",
     "text": [
      "tail():\n",
      "              name  landmass  zone  area  population  language  religion  \\\n",
      "189  Western-Samoa         6     3     3           0         1         1   \n",
      "190     Yugoslavia         3     1   256          22         6         6   \n",
      "191          Zaire         4     2   905          28        10         5   \n",
      "192         Zambia         4     2   753           6        10         5   \n",
      "193       Zimbabwe         4     2   391           8        10         5   \n",
      "\n",
      "     bars  stripes  colours  ...  saltires  quarters  sunstars  crescent  \\\n",
      "189     0        0        3  ...         0         1         5         0   \n",
      "190     0        3        4  ...         0         0         1         0   \n",
      "191     0        0        4  ...         0         0         0         0   \n",
      "192     3        0        4  ...         0         0         0         0   \n",
      "193     0        7        5  ...         0         0         1         0   \n",
      "\n",
      "     triangle  icon  animate text  topleft  botright  \n",
      "189         0     0        0    0     blue       red  \n",
      "190         0     0        0    0     blue       red  \n",
      "191         0     1        1    0    green     green  \n",
      "192         0     0        1    0    green     brown  \n",
      "193         1     1        1    0    green     green  \n",
      "\n",
      "[5 rows x 30 columns]\n",
      "----------------------------\n"
     ]
    }
   ],
   "source": [
    "#imprime as 5 ultimas linhas\n",
    "print('tail():'); print(flags.tail())\n",
    "print('----------------------------')"
   ]
  },
  {
   "cell_type": "code",
   "execution_count": 7,
   "id": "abf90dd5",
   "metadata": {},
   "outputs": [],
   "source": [
    "#Quem tem verde, amarelo, azul e branco na bandeira\n",
    "verde = flags['green']\n",
    "amarelo = flags['gold']\n",
    "azul = flags['blue']\n",
    "branco = flags['white']\n",
    "soma = verde + amarelo + azul + branco"
   ]
  },
  {
   "cell_type": "code",
   "execution_count": 8,
   "id": "1bc9f0d3",
   "metadata": {},
   "outputs": [],
   "source": [
    "#Agora gera o booleano com True pra quem tem as 4 cores\n",
    "tem_todas = (soma==4)"
   ]
  },
  {
   "cell_type": "code",
   "execution_count": 9,
   "id": "62166eaf",
   "metadata": {},
   "outputs": [
    {
     "name": "stdout",
     "output_type": "stream",
     "text": [
      "países com verde, amarelo, azul e branco\n",
      "17                       Belize\n",
      "19                      Bermuda\n",
      "23                       Brazil\n",
      "24         British-Virgin-Isles\n",
      "26                     Bulgaria\n",
      "33               Cayman-Islands\n",
      "34     Central-African-Republic\n",
      "48                     Dominica\n",
      "56           Falklands-Malvinas\n",
      "57                         Fiji\n",
      "71                         Guam\n",
      "78                    Hong-Kong\n",
      "116                  Montserrat\n",
      "135                     Parguay\n",
      "139                    Portugal\n",
      "142                     Romania\n",
      "151             Soloman-Islands\n",
      "158                   St-Helena\n",
      "161                  St-Vincent\n",
      "176         Turks-Cocos-Islands\n",
      "182             US-Virgin-Isles\n",
      "187                   Venezuela\n",
      "Name: name, dtype: object\n"
     ]
    }
   ],
   "source": [
    "#Imprime os nomes dos países com as 4 cores\n",
    "print('países com verde, amarelo, azul e branco')\n",
    "print(flags[tem_todas.values]['name'])"
   ]
  },
  {
   "cell_type": "code",
   "execution_count": null,
   "id": "a74060ec",
   "metadata": {},
   "outputs": [],
   "source": []
  }
 ],
 "metadata": {
  "kernelspec": {
   "display_name": "Python 3",
   "language": "python",
   "name": "python3"
  },
  "language_info": {
   "codemirror_mode": {
    "name": "ipython",
    "version": 3
   },
   "file_extension": ".py",
   "mimetype": "text/x-python",
   "name": "python",
   "nbconvert_exporter": "python",
   "pygments_lexer": "ipython3",
   "version": "3.8.8"
  }
 },
 "nbformat": 4,
 "nbformat_minor": 5
}
