{
 "cells": [
  {
   "cell_type": "code",
   "execution_count": 22,
   "id": "fcc5f26f-b3f1-4a79-a188-2694187b7254",
   "metadata": {},
   "outputs": [],
   "source": [
    "#iremos resolver o PL apresentado no slide, usando o Python\n",
    "\n",
    "#iremos usar o ortools, neste exemplo\n",
    "\n",
    "import ortools.linear_solver.pywraplp as otlp"
   ]
  },
  {
   "cell_type": "code",
   "execution_count": 23,
   "id": "977e07fa-dfb1-47ae-ba0f-63b2a4bea382",
   "metadata": {},
   "outputs": [],
   "source": [
    "#usaremos o solver do google mesmo, GLOP LINEAR PROGRAMMING\n",
    "solver = otlp.Solver('problema MBA', otlp.Solver.GLOP_LINEAR_PROGRAMMING)"
   ]
  },
  {
   "cell_type": "code",
   "execution_count": 24,
   "id": "edb9c904-2f3f-4901-a710-2eda4ec232a6",
   "metadata": {},
   "outputs": [],
   "source": [
    "#Agora, declaramos as variáveis de decisão x1 e x2\n",
    "V1 = solver.NumVar(0, 10000, 'V1')\n",
    "V2 = solver.NumVar(0, 10000, 'V2')\n",
    "NV1 = solver.NumVar(0, 10000, 'NV1')\n",
    "NV2 = solver.NumVar(0, 10000, 'NV2')\n",
    "NV3 = solver.NumVar(0, 10000, 'NV3')"
   ]
  },
  {
   "cell_type": "code",
   "execution_count": 25,
   "id": "e2048c3c-4eaa-4a3b-8c0d-a310b1e3be32",
   "metadata": {},
   "outputs": [
    {
     "data": {
      "text/plain": [
       "<ortools.linear_solver.pywraplp.Constraint; proxy of <Swig Object of type 'operations_research::MPConstraint *' at 0x7fa1082bcc60> >"
      ]
     },
     "execution_count": 25,
     "metadata": {},
     "output_type": "execute_result"
    }
   ],
   "source": [
    "#declaramos as restrições\n",
    "#veja que temos que normalizar, isto é, colocar tudo na mesma unidade\n",
    "#para tal, vamos dividir o RHS das constraints 3 e 4 por 450, que é a soma total dos valores dos oleos, respectivamente\n",
    "solver.Add(8.8*V1 + 6.1*V2 + 2*NV1 + 4.2*NV2 + 5*NV3 >= 3)\n",
    "solver.Add(8.8*V1 + 6.1*V2 + 2*NV1 + 4.2*NV2 + 5*NV3 <= 6)\n",
    "solver.Add(1*V1 + 1*V2 <= 200/450)\n",
    "solver.Add(1*NV1 + 1*NV2 + 1*NV3 <= 250/450)"
   ]
  },
  {
   "cell_type": "code",
   "execution_count": 26,
   "id": "5e655e54-9577-4731-8a97-5a53c92f58c3",
   "metadata": {},
   "outputs": [],
   "source": [
    "#invocamos o solver para resolver o problema\n",
    "solver.Maximize(40*V1 + 30*V2 + 20*NV1 + 40*NV2 + 35*NV3)"
   ]
  },
  {
   "cell_type": "code",
   "execution_count": 27,
   "id": "ab1accd4-f5fe-45a1-b72c-ddbecb2a49d9",
   "metadata": {},
   "outputs": [],
   "source": [
    "#agora, queremos preparar tudo para apresentar os resultados\n",
    "results = solver.Solve()"
   ]
  },
  {
   "cell_type": "code",
   "execution_count": 28,
   "id": "9e5c967d-f19a-43b0-845b-f98dc741964e",
   "metadata": {},
   "outputs": [
    {
     "name": "stdout",
     "output_type": "stream",
     "text": [
      "Resultado encontrado\n",
      "Solution:\n",
      "Objective value = 39.09465020576131\n",
      "V1= 0.3539094650205761\n",
      "V2= 0.09053497942386837\n",
      "NV1= 0.0\n",
      "NV2= 0.5555555555555556\n",
      "NV3= 0.0\n"
     ]
    }
   ],
   "source": [
    "#vamos apresentar os resultados, agora\n",
    "if results == otlp.Solver.OPTIMAL:\n",
    "    print('Resultado encontrado')\n",
    "    print('Solution:')\n",
    "    print('Objective value =', solver.Objective().Value())\n",
    "else:\n",
    "    print('Resultado não encontrado')\n",
    "    \n",
    "print('V1=', V1.solution_value())\n",
    "print('V2=', V2.solution_value())\n",
    "print('NV1=', NV1.solution_value())\n",
    "print('NV2=', NV2.solution_value())\n",
    "print('NV3=', NV3.solution_value())"
   ]
  },
  {
   "cell_type": "code",
   "execution_count": null,
   "id": "1cddca00-2a3a-4382-ab53-b680d63d684d",
   "metadata": {},
   "outputs": [],
   "source": []
  }
 ],
 "metadata": {
  "kernelspec": {
   "display_name": "Python 3",
   "language": "python",
   "name": "python3"
  },
  "language_info": {
   "codemirror_mode": {
    "name": "ipython",
    "version": 3
   },
   "file_extension": ".py",
   "mimetype": "text/x-python",
   "name": "python",
   "nbconvert_exporter": "python",
   "pygments_lexer": "ipython3",
   "version": "3.8.8"
  }
 },
 "nbformat": 4,
 "nbformat_minor": 5
}
