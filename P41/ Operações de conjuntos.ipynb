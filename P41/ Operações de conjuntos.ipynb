{
 "cells": [
  {
   "cell_type": "code",
   "execution_count": 1,
   "id": "441dc825",
   "metadata": {},
   "outputs": [],
   "source": [
    "#P41: Operações de conjuntos\n",
    "import pandas as pd"
   ]
  },
  {
   "cell_type": "code",
   "execution_count": 2,
   "id": "af733f74",
   "metadata": {},
   "outputs": [],
   "source": [
    "#1 Cria dois DataFrames com os emails\n",
    "df_sql = pd.DataFrame({\"email\": [\"rakesh@xyz.com\",\n",
    "                                \"ecg@acmecorpus.com\"]})\n",
    "\n",
    "df_python = pd.DataFrame({\"email\": [\"ana@xyz.com\",\n",
    "                                   \"jonas@acmecorpus.com\",\n",
    "                                   \"rakesh@xyz.com\"]})"
   ]
  },
  {
   "cell_type": "code",
   "execution_count": 5,
   "id": "90892aca",
   "metadata": {},
   "outputs": [],
   "source": [
    "#2 Efetua as operações de conjuntos\n",
    "#2.1 União\n",
    "alunos = pd.concat([df_sql, df_python], ignore_index=True)\n",
    "alunos = alunos.drop_duplicates()\n",
    "\n",
    "#2.2 Interseção\n",
    "sql_e_python = df_sql.merge(df_python)\n",
    "\n",
    "#2.3 Diferença (quem fez um, mas não fez o outro)\n",
    "so_sql = df_sql[df_sql.email.isin(df_python.email)==False]\n",
    "so_python = df_python[df_python.email.isin(df_sql.email)==False]"
   ]
  },
  {
   "cell_type": "code",
   "execution_count": 6,
   "id": "37e0f1d4",
   "metadata": {},
   "outputs": [
    {
     "name": "stdout",
     "output_type": "stream",
     "text": [
      "-------------------------------------\n",
      "Alunos distintos:\n",
      "                  email\n",
      "0        rakesh@xyz.com\n",
      "1    ecg@acmecorpus.com\n",
      "2           ana@xyz.com\n",
      "3  jonas@acmecorpus.com\n",
      "-------------------------------------\n",
      "Alunos cursaram SQL e Python\n",
      "            email\n",
      "0  rakesh@xyz.com\n",
      "-------------------------------------\n",
      "Alunos que cursaram so sql\n",
      "                email\n",
      "1  ecg@acmecorpus.com\n",
      "-------------------------------------\n",
      "Alunos que cursaram so Python\n",
      "                  email\n",
      "0           ana@xyz.com\n",
      "1  jonas@acmecorpus.com\n"
     ]
    }
   ],
   "source": [
    "#Imprime os resultados\n",
    "print('-------------------------------------')\n",
    "print('Alunos distintos:')\n",
    "print(alunos)\n",
    "print('-------------------------------------')\n",
    "print('Alunos cursaram SQL e Python')\n",
    "print(sql_e_python)\n",
    "print('-------------------------------------')\n",
    "print('Alunos que cursaram so sql')\n",
    "print(so_sql)\n",
    "print('-------------------------------------')\n",
    "print('Alunos que cursaram so Python')\n",
    "print(so_python)"
   ]
  },
  {
   "cell_type": "code",
   "execution_count": null,
   "id": "25542ce4",
   "metadata": {},
   "outputs": [],
   "source": []
  }
 ],
 "metadata": {
  "kernelspec": {
   "display_name": "Python 3",
   "language": "python",
   "name": "python3"
  },
  "language_info": {
   "codemirror_mode": {
    "name": "ipython",
    "version": 3
   },
   "file_extension": ".py",
   "mimetype": "text/x-python",
   "name": "python",
   "nbconvert_exporter": "python",
   "pygments_lexer": "ipython3",
   "version": "3.8.8"
  }
 },
 "nbformat": 4,
 "nbformat_minor": 5
}
