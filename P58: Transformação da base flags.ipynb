{
 "cells": [
  {
   "cell_type": "code",
   "execution_count": 1,
   "id": "705713be",
   "metadata": {},
   "outputs": [],
   "source": [
    "#P58: Transformação da base flags\n",
    "import pandas as pd"
   ]
  },
  {
   "cell_type": "code",
   "execution_count": 2,
   "id": "585e52fd",
   "metadata": {},
   "outputs": [],
   "source": [
    "#1 Importa a base de dados\n",
    "flags = pd.read_csv('/Users/TullioPires/flags.csv')"
   ]
  },
  {
   "cell_type": "code",
   "execution_count": 3,
   "id": "55c93c8c",
   "metadata": {},
   "outputs": [],
   "source": [
    "#2 Conversão dos atributos do grupo 2\n",
    "# De: Categóricos para não binários\n",
    "# Para: Categóricos binários\n",
    "for c in flags.columns:\n",
    "    if c in ['landmass', 'zone',\n",
    "            'language', 'religion', 'mainhue',\n",
    "            'topleft', 'botright']:\n",
    "        dummies = pd.get_dummies(flags[c], prefix=c)\n",
    "        flags = flags.join(dummies)\n",
    "#----------------------------------------------------"
   ]
  },
  {
   "cell_type": "code",
   "execution_count": 4,
   "id": "082e4f16",
   "metadata": {},
   "outputs": [],
   "source": [
    "#3 Normalização dos atributos dos grupos 3 e 4\n",
    "# De: Numéricos contínuos e discretos\n",
    "# Para: Numéricos com valores na faixa entre 0 e 1\n",
    "for c in flags.columns:\n",
    "    if c in ['area', 'population',\n",
    "            'bars', 'stripes', 'colours',\n",
    "            'circles', 'crosses', 'saltires',\n",
    "            'quarters', 'sunstars']:\n",
    "        \n",
    "        c_max = max(flags[c])\n",
    "        c_min = min(flags[c])\n",
    "        flags[c] = (flags[c] - c_min)/(c_max-c_min)\n",
    "#--------------------------------------------------"
   ]
  },
  {
   "cell_type": "code",
   "execution_count": 5,
   "id": "b11fd3a6",
   "metadata": {},
   "outputs": [],
   "source": [
    "#4 Exclusão dos atributos indesejados\n",
    "#--------------------------------------------------\n",
    "flags = flags.drop(columns=['name', 'landmass',\n",
    "                           'zone', 'language',\n",
    "                           'religion', 'mainhue',\n",
    "                           'topleft', 'botright'])\n",
    "#---------------------------------------------------"
   ]
  },
  {
   "cell_type": "code",
   "execution_count": 6,
   "id": "0da85ae4",
   "metadata": {},
   "outputs": [
    {
     "name": "stdout",
     "output_type": "stream",
     "text": [
      "head():\n",
      "       area  population  bars   stripes   colours  red  green  blue  gold  \\\n",
      "0  0.028926    0.015873   0.0  0.214286  0.571429    1      1     0     1   \n",
      "1  0.001295    0.002976   0.0  0.000000  0.285714    1      0     0     1   \n",
      "2  0.106598    0.019841   0.4  0.000000  0.285714    1      1     0     0   \n",
      "3  0.000000    0.000000   0.0  0.000000  0.571429    1      0     1     1   \n",
      "4  0.000000    0.000000   0.6  0.000000  0.285714    1      0     1     1   \n",
      "\n",
      "   white  ...  topleft_red  topleft_white  botright_black  botright_blue  \\\n",
      "0      1  ...            0              0               0              0   \n",
      "1      0  ...            1              0               0              0   \n",
      "2      1  ...            0              0               0              0   \n",
      "3      1  ...            0              0               0              0   \n",
      "4      0  ...            0              0               0              0   \n",
      "\n",
      "   botright_brown  botright_gold  botright_green  botright_orange  \\\n",
      "0               0              0               1                0   \n",
      "1               0              0               0                0   \n",
      "2               0              0               0                0   \n",
      "3               0              0               0                0   \n",
      "4               0              0               0                0   \n",
      "\n",
      "   botright_red  botright_white  \n",
      "0             0               0  \n",
      "1             1               0  \n",
      "2             0               1  \n",
      "3             1               0  \n",
      "4             1               0  \n",
      "\n",
      "[5 rows x 73 columns]\n",
      "--------------------------------------------\n",
      "tail():\n",
      "         area  population  bars   stripes   colours  red  green  blue  gold  \\\n",
      "189  0.000134    0.000000   0.0  0.000000  0.285714    1      0     1     0   \n",
      "190  0.011428    0.021825   0.0  0.214286  0.428571    1      0     1     1   \n",
      "191  0.040398    0.027778   0.0  0.000000  0.428571    1      1     0     1   \n",
      "192  0.033613    0.005952   0.6  0.000000  0.428571    1      1     0     0   \n",
      "193  0.017454    0.007937   0.0  0.500000  0.571429    1      1     0     1   \n",
      "\n",
      "     white  ...  topleft_red  topleft_white  botright_black  botright_blue  \\\n",
      "189      1  ...            0              0               0              0   \n",
      "190      1  ...            0              0               0              0   \n",
      "191      0  ...            0              0               0              0   \n",
      "192      0  ...            0              0               0              0   \n",
      "193      1  ...            0              0               0              0   \n",
      "\n",
      "     botright_brown  botright_gold  botright_green  botright_orange  \\\n",
      "189               0              0               0                0   \n",
      "190               0              0               0                0   \n",
      "191               0              0               1                0   \n",
      "192               1              0               0                0   \n",
      "193               0              0               1                0   \n",
      "\n",
      "     botright_red  botright_white  \n",
      "189             1               0  \n",
      "190             1               0  \n",
      "191             0               0  \n",
      "192             0               0  \n",
      "193             0               0  \n",
      "\n",
      "[5 rows x 73 columns]\n",
      "--------------------------------------------\n"
     ]
    }
   ],
   "source": [
    "#5 Imprime a configuração final de flags\n",
    "#---------------------------------------------------\n",
    "print('head():');print(flags.head())\n",
    "print('--------------------------------------------')\n",
    "\n",
    "#Imprime as últimas linhas\n",
    "print('tail():');print(flags.tail())\n",
    "print('--------------------------------------------')"
   ]
  },
  {
   "cell_type": "code",
   "execution_count": 7,
   "id": "54bf0965",
   "metadata": {},
   "outputs": [],
   "source": [
    "#6 Salva o dataset alterado para um arquivo\n",
    "flags.to_csv('/Users/TullioPires/flags_transf.csv', sep=',', index=False)"
   ]
  },
  {
   "cell_type": "code",
   "execution_count": null,
   "id": "4c24ae69",
   "metadata": {},
   "outputs": [],
   "source": []
  }
 ],
 "metadata": {
  "kernelspec": {
   "display_name": "Python 3",
   "language": "python",
   "name": "python3"
  },
  "language_info": {
   "codemirror_mode": {
    "name": "ipython",
    "version": 3
   },
   "file_extension": ".py",
   "mimetype": "text/x-python",
   "name": "python",
   "nbconvert_exporter": "python",
   "pygments_lexer": "ipython3",
   "version": "3.8.8"
  }
 },
 "nbformat": 4,
 "nbformat_minor": 5
}
